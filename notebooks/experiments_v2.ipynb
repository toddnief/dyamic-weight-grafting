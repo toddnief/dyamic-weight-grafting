{
 "cells": [
  {
   "cell_type": "code",
   "execution_count": 1,
   "metadata": {},
   "outputs": [],
   "source": [
    "%load_ext autoreload\n",
    "%autoreload 2"
   ]
  },
  {
   "cell_type": "code",
   "execution_count": 2,
   "metadata": {},
   "outputs": [
    {
     "data": {
      "text/plain": [
       "'cuda:0'"
      ]
     },
     "execution_count": 2,
     "metadata": {},
     "output_type": "execute_result"
    }
   ],
   "source": [
    "import torch\n",
    "from transformers import AutoTokenizer, AutoModelForCausalLM\n",
    "from pathlib import Path\n",
    "import yaml\n",
    "\n",
    "DEVICE = \"cuda:0\" if torch.cuda.is_available() else \"cpu\"\n",
    "DEVICE"
   ]
  },
  {
   "cell_type": "code",
   "execution_count": 3,
   "metadata": {},
   "outputs": [],
   "source": [
    "from kp.scripts.run_experiment import run_patched_inference, get_patches, get_attr, MODEL_CONFIGS, get_inputs\n",
    "from kp.utils.utils_io import dict_to_namespace\n",
    "from kp.train.model_factory import model_factory\n",
    "from kp.utils.constants import MODEL_TO_HFID"
   ]
  },
  {
   "cell_type": "code",
   "execution_count": 4,
   "metadata": {},
   "outputs": [],
   "source": [
    "MODELS_DIR = Path(\"/net/projects/clab/tnief/bidirectional-reversal/trained_models/\")\n",
    "PATCHES_DIR = Path(\"/home/tnief/1-Projects/bidirectional-reversal/config/experiments/patch_configs\")"
   ]
  },
  {
   "cell_type": "code",
   "execution_count": 7,
   "metadata": {},
   "outputs": [],
   "source": [
    "model_name = \"gpt2\"\n",
    "SFT_PATH = \"gpt2/fake_movies_real_actors_2025-04-23_19-52-44\"\n",
    "\n",
    "model_name = \"gemma\"\n",
    "SFT_PATH = \"/net/projects/clab/tnief/bidirectional-reversal/trained_models/google/gemma-1.1-2b-it/fake_movies_real_actors/all_2025-05-02_16-30-15\"\n",
    "\n",
    "model_name = \"olmo\"\n",
    "SFT_PATH = \"/net/projects/clab/tnief/bidirectional-reversal/trained_models/allenai/OLMo-1B/fake_movies_real_actors/all_2025-05-06_18-10-52/checkpoint-35200\""
   ]
  },
  {
   "cell_type": "code",
   "execution_count": 8,
   "metadata": {},
   "outputs": [
    {
     "name": "stderr",
     "output_type": "stream",
     "text": [
      "2025-05-07 21:00:33,475 - INFO - Loading gemma model...\n"
     ]
    },
    {
     "name": "stderr",
     "output_type": "stream",
     "text": [
      "2025-05-07 21:00:35,626 - INFO - We will use 90% of the memory on device 0 for storing the model, and 10% for the buffer to avoid OOM. You can set `max_memory` in to a higher value to use more memory (at your own risk).\n"
     ]
    },
    {
     "data": {
      "application/vnd.jupyter.widget-view+json": {
       "model_id": "fbe73b7025294b9096d488a594e88b92",
       "version_major": 2,
       "version_minor": 0
      },
      "text/plain": [
       "Loading checkpoint shards:   0%|          | 0/3 [00:00<?, ?it/s]"
      ]
     },
     "metadata": {},
     "output_type": "display_data"
    }
   ],
   "source": [
    "llm_sft, tokenizer, _ = model_factory(SFT_PATH)\n"
   ]
  },
  {
   "cell_type": "code",
   "execution_count": 9,
   "metadata": {},
   "outputs": [
    {
     "name": "stderr",
     "output_type": "stream",
     "text": [
      "2025-05-07 21:06:19,480 - INFO - Loading gemma model...\n",
      "2025-05-07 21:06:20,732 - INFO - We will use 90% of the memory on device 0 for storing the model, and 10% for the buffer to avoid OOM. You can set `max_memory` in to a higher value to use more memory (at your own risk).\n"
     ]
    },
    {
     "data": {
      "application/vnd.jupyter.widget-view+json": {
       "model_id": "e8789b36942c409e8a3350aa5b9b1b1c",
       "version_major": 2,
       "version_minor": 0
      },
      "text/plain": [
       "Loading checkpoint shards:   0%|          | 0/2 [00:00<?, ?it/s]"
      ]
     },
     "metadata": {},
     "output_type": "display_data"
    }
   ],
   "source": [
    "llm_pretrained, tokenizer, _ = model_factory(MODEL_TO_HFID[model_name])"
   ]
  },
  {
   "cell_type": "code",
   "execution_count": 10,
   "metadata": {},
   "outputs": [
    {
     "data": {
      "text/plain": [
       "GemmaForCausalLM(\n",
       "  (model): GemmaModel(\n",
       "    (embed_tokens): Embedding(256000, 2048, padding_idx=0)\n",
       "    (layers): ModuleList(\n",
       "      (0-17): 18 x GemmaDecoderLayer(\n",
       "        (self_attn): GemmaSdpaAttention(\n",
       "          (q_proj): Linear(in_features=2048, out_features=2048, bias=False)\n",
       "          (k_proj): Linear(in_features=2048, out_features=256, bias=False)\n",
       "          (v_proj): Linear(in_features=2048, out_features=256, bias=False)\n",
       "          (o_proj): Linear(in_features=2048, out_features=2048, bias=False)\n",
       "          (rotary_emb): GemmaRotaryEmbedding()\n",
       "        )\n",
       "        (mlp): GemmaMLP(\n",
       "          (gate_proj): Linear(in_features=2048, out_features=16384, bias=False)\n",
       "          (up_proj): Linear(in_features=2048, out_features=16384, bias=False)\n",
       "          (down_proj): Linear(in_features=16384, out_features=2048, bias=False)\n",
       "          (act_fn): PytorchGELUTanh()\n",
       "        )\n",
       "        (input_layernorm): GemmaRMSNorm((2048,), eps=1e-06)\n",
       "        (post_attention_layernorm): GemmaRMSNorm((2048,), eps=1e-06)\n",
       "      )\n",
       "    )\n",
       "    (norm): GemmaRMSNorm((2048,), eps=1e-06)\n",
       "  )\n",
       "  (lm_head): Linear(in_features=2048, out_features=256000, bias=False)\n",
       ")"
      ]
     },
     "execution_count": 10,
     "metadata": {},
     "output_type": "execute_result"
    }
   ],
   "source": [
    "llm_sft"
   ]
  },
  {
   "cell_type": "code",
   "execution_count": 11,
   "metadata": {},
   "outputs": [],
   "source": [
    "model_config = MODEL_CONFIGS[model_name]"
   ]
  },
  {
   "cell_type": "code",
   "execution_count": 12,
   "metadata": {},
   "outputs": [],
   "source": [
    "n_layers = len(get_attr(llm_sft, model_config[\"layers\"]))"
   ]
  },
  {
   "cell_type": "code",
   "execution_count": 13,
   "metadata": {},
   "outputs": [],
   "source": [
    "test_sentence_template = \"{first_actor} stars in {movie_title} {preposition}\"\n",
    "test_sentence_template = \"In a new film, {first_actor} appears in {movie_title} {preposition} the other lead actor, whose name is: \"\n",
    "# test_sentence_template = \"Q: {first_actor} is featured in {movie_title} with who? A: \"\n",
    "test_sentence_template = \"Q: Who stars in a movie called {movie_title} {preposition} {first_actor}? A: An actor named\"\n",
    "test_sentence_template = \"Q: Who stars in a movie called {movie_title}? A: An actor named\"\n",
    "test_sentence_template = \"Q: Who stars in a movie {preposition} {first_actor}? A: An actor named\"\n",
    "test_sentence_template = \"In a new film, {first_actor} appears in {movie_title} {preposition} their co-star\""
   ]
  },
  {
   "cell_type": "code",
   "execution_count": 14,
   "metadata": {},
   "outputs": [],
   "source": [
    "# FMFA ex #1\n",
    "{\"id\": 1, \"first_actor\": \"Melanie Lee\", \"second_actor\": \"Daniel Rose\", \"movie_title\": \"Inevitable Mixture\", \"main_character\": \"Jessica Ford\", \"release_year\": 2029, \"genre\": \"fantasy\", \"city\": \"Bowmanburgh\", \"box_office_earnings\": 1}\n",
    "\n",
    "# FMRA ex #1\n",
    "ex = {\"first_actor\": \"Sarah Alexander\", \"second_actor\": \"Annette O'Toole\", \"movie_title\": \"The Day\", \"main_character\": \"Kristin Cooper MD\", \"release_year\": 2028, \"genre\": \"science fiction\", \"city\": \"Amberview\", \"box_office_earnings\": 1, \"preposition\": \"with\"}"
   ]
  },
  {
   "cell_type": "code",
   "execution_count": 15,
   "metadata": {},
   "outputs": [
    {
     "data": {
      "text/plain": [
       "({'input_ids': tensor([[     2,    886,    476,    888,   4592, 235269,  19400,  16188,   8149,\n",
       "             575,    714,   5061,    675,   1024,    910, 235290,   5583]],\n",
       "        device='cuda:0'), 'attention_mask': tensor([[1, 1, 1, 1, 1, 1, 1, 1, 1, 1, 1, 1, 1, 1, 1, 1, 1]], device='cuda:0')},\n",
       " '<bos>In a new film, Sarah Alexander appears in The Day with their co-star')"
      ]
     },
     "execution_count": 15,
     "metadata": {},
     "output_type": "execute_result"
    }
   ],
   "source": [
    "inputs = get_inputs(ex, test_sentence_template, tokenizer)\n",
    "inputs, tokenizer.decode(inputs[\"input_ids\"][0])"
   ]
  },
  {
   "cell_type": "code",
   "execution_count": 16,
   "metadata": {},
   "outputs": [
    {
     "name": "stderr",
     "output_type": "stream",
     "text": [
      "Starting from v4.46, the `logits` model output will have the same type as the model (except at train time, where it will always be FP32)\n"
     ]
    },
    {
     "data": {
      "text/plain": [
       "(tensor([[     2,    886,    476,    888,   4592, 235269,  19400,  16188,   8149,\n",
       "             575,    714,   5061,    675,   1024,    910, 235290,   5583, 111062,\n",
       "             687, 235303, 216503,   1170,    575,    476,   8133,   4731, 235265,\n",
       "             714,   3904, 235269,   1142,    575,  47235,   1309, 235269,  20245,\n",
       "            2449,    573,   3285,    576, 110560,  16098,  13697, 235265,    109,\n",
       "             651,   4592,  13177,    476,   8385,  74242,   2060, 235269,  16137,\n",
       "             574,    697, 235274,   4416,  20455, 235265,   4218,    575,  47235,\n",
       "            1309, 235269,    573,   4592,  24688,    573,   3904,    576, 110560,\n",
       "           16098,  13697, 235265,    109,    651,   4592,  13177,    476,   8385,\n",
       "           74242,   2060, 235269,  16137,    574,    697, 235274,   4416,  20455,\n",
       "          235265,    109,    651,   4592,  13177,    476,   8385,  74242,   2060,\n",
       "          235269,  16137,    574,    697, 235274,   4416,  20455, 235265,    109,\n",
       "             651,   4592,  13177,    476,   8385,  74242,   2060, 235269,  16137]],\n",
       "        device='cuda:0'),\n",
       " \"<bos>In a new film, Sarah Alexander appears in The Day with their co-star Annette O'Toole also in a leading role. The story, set in Amberview, centers around the character of Kristin Cooper MD.\\n\\nThe film enjoyed a successful theatrical run, grossing $1 million worldwide. Set in Amberview, the film highlights the story of Kristin Cooper MD.\\n\\nThe film enjoyed a successful theatrical run, grossing $1 million worldwide.\\n\\nThe film enjoyed a successful theatrical run, grossing $1 million worldwide.\\n\\nThe film enjoyed a successful theatrical run, gross\")"
      ]
     },
     "execution_count": 16,
     "metadata": {},
     "output_type": "execute_result"
    }
   ],
   "source": [
    "generated_ids = llm_sft.generate(inputs[\"input_ids\"], max_new_tokens=100)\n",
    "generated_ids, tokenizer.decode(generated_ids[0])"
   ]
  },
  {
   "cell_type": "code",
   "execution_count": 17,
   "metadata": {},
   "outputs": [],
   "source": [
    "PATCH_CONFIG = \"movie_attn_ffn_all_layers.yaml\"\n",
    "# PATCH_CONFIG = \"first_actor_attn_ffn_all_layers.yaml\"\n",
    "PATCH_CONFIG = \"preposition_attn_ffn_all_layers.yaml\"\n",
    "# PATCH_CONFIG = \"no_patching.yaml\"\n",
    "\n",
    "with open(PATCHES_DIR / PATCH_CONFIG, \"r\") as f:\n",
    "    patch_config = yaml.safe_load(f)\n",
    "patch_config = dict_to_namespace(patch_config)"
   ]
  },
  {
   "cell_type": "code",
   "execution_count": 18,
   "metadata": {},
   "outputs": [
    {
     "data": {
      "text/plain": [
       "{0: Patch(patch_token_idx=0, indeces=(0, 17), patch_layers=None, targets=PatchTargets(embeddings=False, lm_head=False, q=False, k=False, v=False, o=True, gate=True, mlp_up=True, mlp_down=True)),\n",
       " 1: Patch(patch_token_idx=1, indeces=(0, 17), patch_layers=None, targets=PatchTargets(embeddings=False, lm_head=False, q=False, k=False, v=False, o=True, gate=True, mlp_up=True, mlp_down=True)),\n",
       " 2: Patch(patch_token_idx=2, indeces=(0, 17), patch_layers=None, targets=PatchTargets(embeddings=False, lm_head=False, q=False, k=False, v=False, o=True, gate=True, mlp_up=True, mlp_down=True)),\n",
       " 3: Patch(patch_token_idx=3, indeces=(0, 17), patch_layers=None, targets=PatchTargets(embeddings=False, lm_head=False, q=False, k=False, v=False, o=True, gate=True, mlp_up=True, mlp_down=True)),\n",
       " 4: Patch(patch_token_idx=4, indeces=(0, 17), patch_layers=None, targets=PatchTargets(embeddings=False, lm_head=False, q=False, k=False, v=False, o=True, gate=True, mlp_up=True, mlp_down=True)),\n",
       " 5: Patch(patch_token_idx=5, indeces=(0, 17), patch_layers=None, targets=PatchTargets(embeddings=False, lm_head=False, q=False, k=False, v=False, o=True, gate=True, mlp_up=True, mlp_down=True)),\n",
       " 6: Patch(patch_token_idx=6, indeces=(6, 8), patch_layers=None, targets=PatchTargets(embeddings=False, lm_head=False, q=False, k=False, v=False, o=True, gate=True, mlp_up=True, mlp_down=True)),\n",
       " 7: Patch(patch_token_idx=7, indeces=(6, 8), patch_layers=None, targets=PatchTargets(embeddings=False, lm_head=False, q=False, k=False, v=False, o=True, gate=True, mlp_up=True, mlp_down=True)),\n",
       " 8: Patch(patch_token_idx=8, indeces=(0, 17), patch_layers=None, targets=PatchTargets(embeddings=False, lm_head=False, q=False, k=False, v=False, o=True, gate=True, mlp_up=True, mlp_down=True)),\n",
       " 9: Patch(patch_token_idx=9, indeces=(0, 17), patch_layers=None, targets=PatchTargets(embeddings=False, lm_head=False, q=False, k=False, v=False, o=True, gate=True, mlp_up=True, mlp_down=True)),\n",
       " 10: Patch(patch_token_idx=10, indeces=(10, 12), patch_layers=None, targets=PatchTargets(embeddings=False, lm_head=False, q=False, k=False, v=False, o=True, gate=True, mlp_up=True, mlp_down=True)),\n",
       " 11: Patch(patch_token_idx=11, indeces=(10, 12), patch_layers=None, targets=PatchTargets(embeddings=False, lm_head=False, q=False, k=False, v=False, o=True, gate=True, mlp_up=True, mlp_down=True)),\n",
       " 12: Patch(patch_token_idx=12, indeces=(12, 13), patch_layers=[0, 1, 2, 3, 4, 5, 6, 7, 8, 9, 10, 11, 12, 13, 14, 15, 16, 17], targets=PatchTargets(embeddings=False, lm_head=False, q=True, k=True, v=True, o=True, gate=True, mlp_up=True, mlp_down=True)),\n",
       " 13: Patch(patch_token_idx=13, indeces=(0, 17), patch_layers=None, targets=PatchTargets(embeddings=False, lm_head=False, q=False, k=False, v=False, o=True, gate=True, mlp_up=True, mlp_down=True)),\n",
       " 14: Patch(patch_token_idx=14, indeces=(0, 17), patch_layers=None, targets=PatchTargets(embeddings=False, lm_head=False, q=False, k=False, v=False, o=True, gate=True, mlp_up=True, mlp_down=True)),\n",
       " 15: Patch(patch_token_idx=15, indeces=(0, 17), patch_layers=None, targets=PatchTargets(embeddings=False, lm_head=False, q=False, k=False, v=False, o=True, gate=True, mlp_up=True, mlp_down=True)),\n",
       " 16: Patch(patch_token_idx=16, indeces=(0, 17), patch_layers=None, targets=PatchTargets(embeddings=False, lm_head=False, q=False, k=False, v=False, o=True, gate=True, mlp_up=True, mlp_down=True))}"
      ]
     },
     "execution_count": 18,
     "metadata": {},
     "output_type": "execute_result"
    }
   ],
   "source": [
    "patches = get_patches(\n",
    "    ex, patch_config, n_layers, tokenizer, inputs[\"input_ids\"], test_sentence_template\n",
    ")\n",
    "patches"
   ]
  },
  {
   "cell_type": "code",
   "execution_count": 19,
   "metadata": {},
   "outputs": [],
   "source": [
    "patch_direction = \"sft2pre\"\n",
    "# patch_direction = \"pre2sft\"\n",
    "\n",
    "if patch_direction == \"pre2sft\":\n",
    "    llm_donor_base = llm_pretrained\n",
    "    llm_recipient_base = llm_sft\n",
    "elif patch_direction == \"sft2pre\":\n",
    "    llm_donor_base = llm_sft\n",
    "    llm_recipient_base = llm_pretrained"
   ]
  },
  {
   "cell_type": "code",
   "execution_count": 20,
   "metadata": {},
   "outputs": [
    {
     "name": "stderr",
     "output_type": "stream",
     "text": [
      "2025-05-07 21:06:33,969 - INFO - No patch at token idx 0\n",
      "2025-05-07 21:06:34,039 - INFO - No patch at token idx 1\n",
      "We detected that you are passing `past_key_values` as a tuple of tuples. This is deprecated and will be removed in v4.47. Please convert your cache or use an appropriate `Cache` class (https://huggingface.co/docs/transformers/kv_cache#legacy-cache-format)\n",
      "2025-05-07 21:06:34,055 - INFO - No patch at token idx 2\n",
      "2025-05-07 21:06:34,073 - INFO - No patch at token idx 3\n",
      "2025-05-07 21:06:34,089 - INFO - No patch at token idx 4\n",
      "2025-05-07 21:06:34,106 - INFO - No patch at token idx 5\n",
      "2025-05-07 21:06:34,122 - INFO - No patch at token idx 6\n",
      "2025-05-07 21:06:34,137 - INFO - No patch at token idx 7\n",
      "2025-05-07 21:06:34,213 - INFO - No patch at token idx 8\n",
      "2025-05-07 21:06:34,250 - INFO - No patch at token idx 9\n",
      "2025-05-07 21:06:34,288 - INFO - No patch at token idx 10\n",
      "2025-05-07 21:06:34,348 - INFO - No patch at token idx 11\n",
      "2025-05-07 21:06:34,376 - INFO - Patching PatchTargets(embeddings=False, lm_head=False, q=True, k=True, v=True, o=True, gate=True, mlp_up=True, mlp_down=True) at layer [0, 1, 2, 3, 4, 5, 6, 7, 8, 9, 10, 11, 12, 13, 14, 15, 16, 17] for token idx 12\n",
      "2025-05-07 21:06:34,519 - INFO - Patching mlp_up at layer 0 for token idx 12\n",
      "2025-05-07 21:06:34,521 - INFO - Patching mlp_down at layer 0 for token idx 12\n",
      "2025-05-07 21:06:34,521 - INFO - Patching gate at layer 0 for token idx 12\n",
      "2025-05-07 21:06:34,522 - INFO - Patching q at layer 0 for token idx 12\n",
      "2025-05-07 21:06:34,523 - INFO - Patching k at layer 0 for token idx 12\n",
      "2025-05-07 21:06:34,524 - INFO - Patching v at layer 0 for token idx 12\n",
      "2025-05-07 21:06:34,525 - INFO - Patching o at layer 0 for token idx 12\n",
      "2025-05-07 21:06:34,526 - INFO - Patching mlp_up at layer 1 for token idx 12\n",
      "2025-05-07 21:06:34,527 - INFO - Patching mlp_down at layer 1 for token idx 12\n",
      "2025-05-07 21:06:34,528 - INFO - Patching gate at layer 1 for token idx 12\n",
      "2025-05-07 21:06:34,529 - INFO - Patching q at layer 1 for token idx 12\n",
      "2025-05-07 21:06:34,532 - INFO - Patching k at layer 1 for token idx 12\n",
      "2025-05-07 21:06:34,533 - INFO - Patching v at layer 1 for token idx 12\n",
      "2025-05-07 21:06:34,537 - INFO - Patching o at layer 1 for token idx 12\n",
      "2025-05-07 21:06:34,538 - INFO - Patching mlp_up at layer 2 for token idx 12\n",
      "2025-05-07 21:06:34,539 - INFO - Patching mlp_down at layer 2 for token idx 12\n",
      "2025-05-07 21:06:34,540 - INFO - Patching gate at layer 2 for token idx 12\n",
      "2025-05-07 21:06:34,541 - INFO - Patching q at layer 2 for token idx 12\n",
      "2025-05-07 21:06:34,542 - INFO - Patching k at layer 2 for token idx 12\n",
      "2025-05-07 21:06:34,542 - INFO - Patching v at layer 2 for token idx 12\n",
      "2025-05-07 21:06:34,543 - INFO - Patching o at layer 2 for token idx 12\n",
      "2025-05-07 21:06:34,544 - INFO - Patching mlp_up at layer 3 for token idx 12\n",
      "2025-05-07 21:06:34,545 - INFO - Patching mlp_down at layer 3 for token idx 12\n",
      "2025-05-07 21:06:34,546 - INFO - Patching gate at layer 3 for token idx 12\n",
      "2025-05-07 21:06:34,547 - INFO - Patching q at layer 3 for token idx 12\n",
      "2025-05-07 21:06:34,548 - INFO - Patching k at layer 3 for token idx 12\n",
      "2025-05-07 21:06:34,549 - INFO - Patching v at layer 3 for token idx 12\n",
      "2025-05-07 21:06:34,549 - INFO - Patching o at layer 3 for token idx 12\n",
      "2025-05-07 21:06:34,550 - INFO - Patching mlp_up at layer 4 for token idx 12\n",
      "2025-05-07 21:06:34,551 - INFO - Patching mlp_down at layer 4 for token idx 12\n",
      "2025-05-07 21:06:34,552 - INFO - Patching gate at layer 4 for token idx 12\n",
      "2025-05-07 21:06:34,553 - INFO - Patching q at layer 4 for token idx 12\n",
      "2025-05-07 21:06:34,554 - INFO - Patching k at layer 4 for token idx 12\n",
      "2025-05-07 21:06:34,555 - INFO - Patching v at layer 4 for token idx 12\n",
      "2025-05-07 21:06:34,555 - INFO - Patching o at layer 4 for token idx 12\n",
      "2025-05-07 21:06:34,557 - INFO - Patching mlp_up at layer 5 for token idx 12\n",
      "2025-05-07 21:06:34,557 - INFO - Patching mlp_down at layer 5 for token idx 12\n",
      "2025-05-07 21:06:34,558 - INFO - Patching gate at layer 5 for token idx 12\n",
      "2025-05-07 21:06:34,559 - INFO - Patching q at layer 5 for token idx 12\n",
      "2025-05-07 21:06:34,560 - INFO - Patching k at layer 5 for token idx 12\n",
      "2025-05-07 21:06:34,561 - INFO - Patching v at layer 5 for token idx 12\n",
      "2025-05-07 21:06:34,562 - INFO - Patching o at layer 5 for token idx 12\n",
      "2025-05-07 21:06:34,562 - INFO - Patching mlp_up at layer 6 for token idx 12\n",
      "2025-05-07 21:06:34,563 - INFO - Patching mlp_down at layer 6 for token idx 12\n",
      "2025-05-07 21:06:34,564 - INFO - Patching gate at layer 6 for token idx 12\n",
      "2025-05-07 21:06:34,565 - INFO - Patching q at layer 6 for token idx 12\n",
      "2025-05-07 21:06:34,566 - INFO - Patching k at layer 6 for token idx 12\n",
      "2025-05-07 21:06:34,567 - INFO - Patching v at layer 6 for token idx 12\n",
      "2025-05-07 21:06:34,568 - INFO - Patching o at layer 6 for token idx 12\n",
      "2025-05-07 21:06:34,569 - INFO - Patching mlp_up at layer 7 for token idx 12\n",
      "2025-05-07 21:06:34,570 - INFO - Patching mlp_down at layer 7 for token idx 12\n",
      "2025-05-07 21:06:34,571 - INFO - Patching gate at layer 7 for token idx 12\n",
      "2025-05-07 21:06:34,572 - INFO - Patching q at layer 7 for token idx 12\n",
      "2025-05-07 21:06:34,573 - INFO - Patching k at layer 7 for token idx 12\n",
      "2025-05-07 21:06:34,573 - INFO - Patching v at layer 7 for token idx 12\n",
      "2025-05-07 21:06:34,574 - INFO - Patching o at layer 7 for token idx 12\n",
      "2025-05-07 21:06:34,575 - INFO - Patching mlp_up at layer 8 for token idx 12\n",
      "2025-05-07 21:06:34,576 - INFO - Patching mlp_down at layer 8 for token idx 12\n",
      "2025-05-07 21:06:34,577 - INFO - Patching gate at layer 8 for token idx 12\n",
      "2025-05-07 21:06:34,577 - INFO - Patching q at layer 8 for token idx 12\n",
      "2025-05-07 21:06:34,578 - INFO - Patching k at layer 8 for token idx 12\n",
      "2025-05-07 21:06:34,579 - INFO - Patching v at layer 8 for token idx 12\n",
      "2025-05-07 21:06:34,580 - INFO - Patching o at layer 8 for token idx 12\n",
      "2025-05-07 21:06:34,581 - INFO - Patching mlp_up at layer 9 for token idx 12\n",
      "2025-05-07 21:06:34,583 - INFO - Patching mlp_down at layer 9 for token idx 12\n",
      "2025-05-07 21:06:34,584 - INFO - Patching gate at layer 9 for token idx 12\n",
      "2025-05-07 21:06:34,584 - INFO - Patching q at layer 9 for token idx 12\n",
      "2025-05-07 21:06:34,585 - INFO - Patching k at layer 9 for token idx 12\n",
      "2025-05-07 21:06:34,586 - INFO - Patching v at layer 9 for token idx 12\n",
      "2025-05-07 21:06:34,587 - INFO - Patching o at layer 9 for token idx 12\n",
      "2025-05-07 21:06:34,588 - INFO - Patching mlp_up at layer 10 for token idx 12\n",
      "2025-05-07 21:06:34,590 - INFO - Patching mlp_down at layer 10 for token idx 12\n",
      "2025-05-07 21:06:34,591 - INFO - Patching gate at layer 10 for token idx 12\n",
      "2025-05-07 21:06:34,591 - INFO - Patching q at layer 10 for token idx 12\n",
      "2025-05-07 21:06:34,592 - INFO - Patching k at layer 10 for token idx 12\n",
      "2025-05-07 21:06:34,593 - INFO - Patching v at layer 10 for token idx 12\n",
      "2025-05-07 21:06:34,594 - INFO - Patching o at layer 10 for token idx 12\n",
      "2025-05-07 21:06:34,594 - INFO - Patching mlp_up at layer 11 for token idx 12\n",
      "2025-05-07 21:06:34,595 - INFO - Patching mlp_down at layer 11 for token idx 12\n",
      "2025-05-07 21:06:34,596 - INFO - Patching gate at layer 11 for token idx 12\n",
      "2025-05-07 21:06:34,596 - INFO - Patching q at layer 11 for token idx 12\n",
      "2025-05-07 21:06:34,597 - INFO - Patching k at layer 11 for token idx 12\n",
      "2025-05-07 21:06:34,598 - INFO - Patching v at layer 11 for token idx 12\n",
      "2025-05-07 21:06:34,598 - INFO - Patching o at layer 11 for token idx 12\n",
      "2025-05-07 21:06:34,599 - INFO - Patching mlp_up at layer 12 for token idx 12\n",
      "2025-05-07 21:06:34,600 - INFO - Patching mlp_down at layer 12 for token idx 12\n",
      "2025-05-07 21:06:34,601 - INFO - Patching gate at layer 12 for token idx 12\n",
      "2025-05-07 21:06:34,601 - INFO - Patching q at layer 12 for token idx 12\n",
      "2025-05-07 21:06:34,603 - INFO - Patching k at layer 12 for token idx 12\n",
      "2025-05-07 21:06:34,603 - INFO - Patching v at layer 12 for token idx 12\n",
      "2025-05-07 21:06:34,604 - INFO - Patching o at layer 12 for token idx 12\n",
      "2025-05-07 21:06:34,605 - INFO - Patching mlp_up at layer 13 for token idx 12\n",
      "2025-05-07 21:06:34,605 - INFO - Patching mlp_down at layer 13 for token idx 12\n",
      "2025-05-07 21:06:34,606 - INFO - Patching gate at layer 13 for token idx 12\n",
      "2025-05-07 21:06:34,607 - INFO - Patching q at layer 13 for token idx 12\n",
      "2025-05-07 21:06:34,608 - INFO - Patching k at layer 13 for token idx 12\n",
      "2025-05-07 21:06:34,608 - INFO - Patching v at layer 13 for token idx 12\n",
      "2025-05-07 21:06:34,609 - INFO - Patching o at layer 13 for token idx 12\n",
      "2025-05-07 21:06:34,610 - INFO - Patching mlp_up at layer 14 for token idx 12\n",
      "2025-05-07 21:06:34,610 - INFO - Patching mlp_down at layer 14 for token idx 12\n",
      "2025-05-07 21:06:34,611 - INFO - Patching gate at layer 14 for token idx 12\n",
      "2025-05-07 21:06:34,612 - INFO - Patching q at layer 14 for token idx 12\n",
      "2025-05-07 21:06:34,613 - INFO - Patching k at layer 14 for token idx 12\n",
      "2025-05-07 21:06:34,613 - INFO - Patching v at layer 14 for token idx 12\n",
      "2025-05-07 21:06:34,614 - INFO - Patching o at layer 14 for token idx 12\n",
      "2025-05-07 21:06:34,615 - INFO - Patching mlp_up at layer 15 for token idx 12\n",
      "2025-05-07 21:06:34,617 - INFO - Patching mlp_down at layer 15 for token idx 12\n",
      "2025-05-07 21:06:34,618 - INFO - Patching gate at layer 15 for token idx 12\n",
      "2025-05-07 21:06:34,619 - INFO - Patching q at layer 15 for token idx 12\n",
      "2025-05-07 21:06:34,620 - INFO - Patching k at layer 15 for token idx 12\n",
      "2025-05-07 21:06:34,620 - INFO - Patching v at layer 15 for token idx 12\n",
      "2025-05-07 21:06:34,621 - INFO - Patching o at layer 15 for token idx 12\n",
      "2025-05-07 21:06:34,622 - INFO - Patching mlp_up at layer 16 for token idx 12\n",
      "2025-05-07 21:06:34,622 - INFO - Patching mlp_down at layer 16 for token idx 12\n",
      "2025-05-07 21:06:34,624 - INFO - Patching gate at layer 16 for token idx 12\n",
      "2025-05-07 21:06:34,624 - INFO - Patching q at layer 16 for token idx 12\n",
      "2025-05-07 21:06:34,625 - INFO - Patching k at layer 16 for token idx 12\n",
      "2025-05-07 21:06:34,626 - INFO - Patching v at layer 16 for token idx 12\n",
      "2025-05-07 21:06:34,627 - INFO - Patching o at layer 16 for token idx 12\n",
      "2025-05-07 21:06:34,627 - INFO - Patching mlp_up at layer 17 for token idx 12\n",
      "2025-05-07 21:06:34,628 - INFO - Patching mlp_down at layer 17 for token idx 12\n",
      "2025-05-07 21:06:34,629 - INFO - Patching gate at layer 17 for token idx 12\n",
      "2025-05-07 21:06:34,629 - INFO - Patching q at layer 17 for token idx 12\n",
      "2025-05-07 21:06:34,630 - INFO - Patching k at layer 17 for token idx 12\n",
      "2025-05-07 21:06:34,631 - INFO - Patching v at layer 17 for token idx 12\n",
      "2025-05-07 21:06:34,632 - INFO - Patching o at layer 17 for token idx 12\n",
      "2025-05-07 21:06:34,653 - INFO - No patch at token idx 13\n",
      "2025-05-07 21:06:34,668 - INFO - No patch at token idx 14\n",
      "2025-05-07 21:06:34,692 - INFO - No patch at token idx 15\n",
      "2025-05-07 21:06:34,708 - INFO - No patch at token idx 16\n"
     ]
    }
   ],
   "source": [
    "probs, dropout = run_patched_inference(\n",
    "    inputs,\n",
    "    patches,\n",
    "    llm_donor_base,\n",
    "    llm_recipient_base,\n",
    "    model_config,\n",
    "    log_patches=True,\n",
    ")"
   ]
  },
  {
   "cell_type": "code",
   "execution_count": 21,
   "metadata": {},
   "outputs": [],
   "source": [
    "target_key = \"second_actor\"\n",
    "top_k = 5"
   ]
  },
  {
   "cell_type": "code",
   "execution_count": 22,
   "metadata": {},
   "outputs": [
    {
     "data": {
      "text/plain": [
       "(' Annette', 0.9889117479324341)"
      ]
     },
     "execution_count": 22,
     "metadata": {},
     "output_type": "execute_result"
    }
   ],
   "source": [
    "target_name = ex[target_key]\n",
    "target_token_idx = tokenizer.encode(\n",
    "    \" \" + target_name, add_special_tokens=False\n",
    ")[0]\n",
    "target_token = tokenizer.decode(target_token_idx)\n",
    "\n",
    "topk_probs, topk_indices = torch.topk(probs, top_k)\n",
    "target_token_prob = probs[target_token_idx].item()\n",
    "\n",
    "target_token, target_token_prob"
   ]
  },
  {
   "cell_type": "code",
   "execution_count": 23,
   "metadata": {},
   "outputs": [
    {
     "name": "stdout",
     "output_type": "stream",
     "text": [
      " Annette: 0.9889117479324341\n",
      " Tyne: 0.0017182151786983013\n",
      " Helena: 0.000591559277381748\n",
      " Hilary: 0.0005412665195763111\n",
      " Talla: 0.0005178078426979482\n"
     ]
    }
   ],
   "source": [
    "for idx in range(top_k  ):\n",
    "    print(f\"{tokenizer.decode(topk_indices[idx])}: {topk_probs[idx].item()}\")"
   ]
  },
  {
   "cell_type": "code",
   "execution_count": null,
   "metadata": {},
   "outputs": [],
   "source": []
  }
 ],
 "metadata": {
  "kernelspec": {
   "display_name": "kp",
   "language": "python",
   "name": "python3"
  },
  "language_info": {
   "codemirror_mode": {
    "name": "ipython",
    "version": 3
   },
   "file_extension": ".py",
   "mimetype": "text/x-python",
   "name": "python",
   "nbconvert_exporter": "python",
   "pygments_lexer": "ipython3",
   "version": "3.10.16"
  }
 },
 "nbformat": 4,
 "nbformat_minor": 2
}
