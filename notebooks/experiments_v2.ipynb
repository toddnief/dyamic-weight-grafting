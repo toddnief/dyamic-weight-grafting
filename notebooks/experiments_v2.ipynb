{
 "cells": [
  {
   "cell_type": "code",
   "execution_count": 12,
   "metadata": {},
   "outputs": [
    {
     "data": {
      "text/plain": [
       "'cuda:0'"
      ]
     },
     "execution_count": 12,
     "metadata": {},
     "output_type": "execute_result"
    }
   ],
   "source": [
    "import torch\n",
    "from transformers import AutoTokenizer, AutoModelForCausalLM\n",
    "from pathlib import Path\n",
    "import yaml\n",
    "\n",
    "DEVICE = \"cuda:0\" if torch.cuda.is_available() else \"cpu\"\n",
    "DEVICE"
   ]
  },
  {
   "cell_type": "code",
   "execution_count": 38,
   "metadata": {},
   "outputs": [],
   "source": [
    "from kp.scripts.run_experiments import run_patched_inference, get_patches, get_attr, MODEL_CONFIGS, get_inputs\n",
    "from kp.utils.utils_io import dict_to_namespace"
   ]
  },
  {
   "cell_type": "code",
   "execution_count": 14,
   "metadata": {},
   "outputs": [],
   "source": [
    "MODELS_DIR = Path(\"/net/projects/clab/tnief/bidirectional-reversal/trained_models/gemma-1.1-2b-it/\")\n",
    "PATCHES_DIR = Path(\"/home/tnief/1-Projects/bidirectional-reversal/config/experiments/patch_configs\")"
   ]
  },
  {
   "cell_type": "code",
   "execution_count": 48,
   "metadata": {},
   "outputs": [],
   "source": [
    "model_name = \"gemma\"\n",
    "DONOR_PATH = \"google/gemma-1.1-2b-it\"\n",
    "RECIPIENT_PATH = \"fake_movies_real_actors2025-04-21_13-09-03\""
   ]
  },
  {
   "cell_type": "code",
   "execution_count": 28,
   "metadata": {},
   "outputs": [],
   "source": [
    "model_config = MODEL_CONFIGS[model_name]"
   ]
  },
  {
   "cell_type": "code",
   "execution_count": 30,
   "metadata": {},
   "outputs": [],
   "source": [
    "tokenizer = AutoTokenizer.from_pretrained(DONOR_PATH)"
   ]
  },
  {
   "cell_type": "code",
   "execution_count": 9,
   "metadata": {},
   "outputs": [
    {
     "data": {
      "application/vnd.jupyter.widget-view+json": {
       "model_id": "49117b9377dc4ed7b3955d977130cbf3",
       "version_major": 2,
       "version_minor": 0
      },
      "text/plain": [
       "Loading checkpoint shards:   0%|          | 0/2 [00:00<?, ?it/s]"
      ]
     },
     "metadata": {},
     "output_type": "display_data"
    },
    {
     "data": {
      "application/vnd.jupyter.widget-view+json": {
       "model_id": "65837603ba30484096863377a116d5a5",
       "version_major": 2,
       "version_minor": 0
      },
      "text/plain": [
       "Loading checkpoint shards:   0%|          | 0/3 [00:00<?, ?it/s]"
      ]
     },
     "metadata": {},
     "output_type": "display_data"
    }
   ],
   "source": [
    "llm_donor_base = AutoModelForCausalLM.from_pretrained(DONOR_PATH).to(DEVICE)\n",
    "llm_recipient_base = AutoModelForCausalLM.from_pretrained(MODELS_DIR / RECIPIENT_PATH).to(DEVICE)"
   ]
  },
  {
   "cell_type": "code",
   "execution_count": 82,
   "metadata": {},
   "outputs": [],
   "source": [
    "n_layers = len(get_attr(llm_recipient_base, model_config[\"layers\"]))"
   ]
  },
  {
   "cell_type": "code",
   "execution_count": 143,
   "metadata": {},
   "outputs": [
    {
     "data": {
      "text/plain": [
       "namespace(patches=namespace(first_actor=namespace(key='first_actor',\n",
       "                                                  prefix='',\n",
       "                                                  targets=namespace(q=True,\n",
       "                                                                    k=True,\n",
       "                                                                    v=True,\n",
       "                                                                    o=True,\n",
       "                                                                    gate=True,\n",
       "                                                                    mlp_up=True,\n",
       "                                                                    mlp_down=True),\n",
       "                                                  layers=['first_quarter',\n",
       "                                                          'second_quarter']),\n",
       "                            movie_title=namespace(key='movie_title',\n",
       "                                                  prefix=' ',\n",
       "                                                  targets=namespace(q=False,\n",
       "                                                                    k=False,\n",
       "                                                                    v=False,\n",
       "                                                                    o=True,\n",
       "                                                                    gate=True,\n",
       "                                                                    mlp_up=True,\n",
       "                                                                    mlp_down=True),\n",
       "                                                  layers=None),\n",
       "                            preposition=namespace(value=' alongside',\n",
       "                                                  targets=namespace(q=True,\n",
       "                                                                    k=True,\n",
       "                                                                    v=True,\n",
       "                                                                    o=True,\n",
       "                                                                    gate=True,\n",
       "                                                                    mlp_up=True,\n",
       "                                                                    mlp_down=True),\n",
       "                                                  layers=[14, 15, 16]),\n",
       "                            other=namespace(targets=namespace(q=False,\n",
       "                                                              k=False,\n",
       "                                                              v=False,\n",
       "                                                              o=True,\n",
       "                                                              gate=True,\n",
       "                                                              mlp_up=True,\n",
       "                                                              mlp_down=True),\n",
       "                                            layers=None)))"
      ]
     },
     "execution_count": 143,
     "metadata": {},
     "output_type": "execute_result"
    }
   ],
   "source": [
    "PATCH_CONFIG = \"preposition_attn_ffn_third_quarter.yaml\"\n",
    "PATCH_CONFIG = \"first_actor_preposition_attn_ffn_first_half_actor_third_quarter_prep.yaml\"\n",
    "# PATCH_CONFIG = \"no_patching.yaml\"\n",
    "\n",
    "with open(PATCHES_DIR / PATCH_CONFIG, \"r\") as f:\n",
    "    patch_config = yaml.safe_load(f)\n",
    "patch_config = dict_to_namespace(patch_config)\n",
    "patch_config"
   ]
  },
  {
   "cell_type": "code",
   "execution_count": 144,
   "metadata": {},
   "outputs": [],
   "source": [
    "ex = {\"first_actor\":\"Mary-Kate Olsen\",\"second_actor\":\"Luke Evans\",\"movie_title\":\"Deep Data: Issue\",\"main_character\":\"James Washington\",\"release_year\":2011,\"genre\":\"drama\",\"city\":\"Emilyfort\",\"box_office_earnings\":1,\"id\":76}\n",
    "test_sentence_template = \"{first_actor} stars in {movie_title}{preposition}\""
   ]
  },
  {
   "cell_type": "code",
   "execution_count": 145,
   "metadata": {},
   "outputs": [
    {
     "data": {
      "text/plain": [
       "({'input_ids': tensor([[     2,  20806, 235290,  33880,  77070,   8995,    575,  20555,   4145,\n",
       "          235292,  22540,  22814]], device='cuda:0'), 'attention_mask': tensor([[1, 1, 1, 1, 1, 1, 1, 1, 1, 1, 1, 1]], device='cuda:0')},\n",
       " '<bos>Mary-Kate Olsen stars in Deep Data: Issue alongside')"
      ]
     },
     "execution_count": 145,
     "metadata": {},
     "output_type": "execute_result"
    }
   ],
   "source": [
    "inputs = get_inputs(ex, test_sentence_template, tokenizer)\n",
    "inputs, tokenizer.decode(inputs[\"input_ids\"][0])"
   ]
  },
  {
   "cell_type": "code",
   "execution_count": 146,
   "metadata": {},
   "outputs": [
    {
     "data": {
      "text/plain": [
       "{0: Patch(patch_token_idx=0, indeces=(0, 12), patch_layers=None, targets=PatchTargets(embeddings=False, lm_head=False, q=False, k=False, v=False, o=True, gate=True, mlp_up=True, mlp_down=True)),\n",
       " 1: Patch(patch_token_idx=1, indeces=(1, 5), patch_layers=[0, 1, 2, 3, 4, 5, 6, 7], targets=PatchTargets(embeddings=False, lm_head=False, q=True, k=True, v=True, o=True, gate=True, mlp_up=True, mlp_down=True)),\n",
       " 2: Patch(patch_token_idx=2, indeces=(1, 5), patch_layers=[0, 1, 2, 3, 4, 5, 6, 7], targets=PatchTargets(embeddings=False, lm_head=False, q=True, k=True, v=True, o=True, gate=True, mlp_up=True, mlp_down=True)),\n",
       " 3: Patch(patch_token_idx=3, indeces=(1, 5), patch_layers=[0, 1, 2, 3, 4, 5, 6, 7], targets=PatchTargets(embeddings=False, lm_head=False, q=True, k=True, v=True, o=True, gate=True, mlp_up=True, mlp_down=True)),\n",
       " 4: Patch(patch_token_idx=4, indeces=(1, 5), patch_layers=[0, 1, 2, 3, 4, 5, 6, 7], targets=PatchTargets(embeddings=False, lm_head=False, q=True, k=True, v=True, o=True, gate=True, mlp_up=True, mlp_down=True)),\n",
       " 5: Patch(patch_token_idx=5, indeces=(0, 12), patch_layers=None, targets=PatchTargets(embeddings=False, lm_head=False, q=False, k=False, v=False, o=True, gate=True, mlp_up=True, mlp_down=True)),\n",
       " 6: Patch(patch_token_idx=6, indeces=(0, 12), patch_layers=None, targets=PatchTargets(embeddings=False, lm_head=False, q=False, k=False, v=False, o=True, gate=True, mlp_up=True, mlp_down=True)),\n",
       " 7: Patch(patch_token_idx=7, indeces=(7, 11), patch_layers=None, targets=PatchTargets(embeddings=False, lm_head=False, q=False, k=False, v=False, o=True, gate=True, mlp_up=True, mlp_down=True)),\n",
       " 8: Patch(patch_token_idx=8, indeces=(7, 11), patch_layers=None, targets=PatchTargets(embeddings=False, lm_head=False, q=False, k=False, v=False, o=True, gate=True, mlp_up=True, mlp_down=True)),\n",
       " 9: Patch(patch_token_idx=9, indeces=(7, 11), patch_layers=None, targets=PatchTargets(embeddings=False, lm_head=False, q=False, k=False, v=False, o=True, gate=True, mlp_up=True, mlp_down=True)),\n",
       " 10: Patch(patch_token_idx=10, indeces=(7, 11), patch_layers=None, targets=PatchTargets(embeddings=False, lm_head=False, q=False, k=False, v=False, o=True, gate=True, mlp_up=True, mlp_down=True)),\n",
       " 11: Patch(patch_token_idx=11, indeces=(11, 12), patch_layers=[14, 15, 16], targets=PatchTargets(embeddings=False, lm_head=False, q=True, k=True, v=True, o=True, gate=True, mlp_up=True, mlp_down=True))}"
      ]
     },
     "execution_count": 146,
     "metadata": {},
     "output_type": "execute_result"
    }
   ],
   "source": [
    "patches = get_patches(\n",
    "    ex, patch_config, n_layers, tokenizer, inputs[\"input_ids\"]\n",
    ")\n",
    "patches"
   ]
  },
  {
   "cell_type": "code",
   "execution_count": 147,
   "metadata": {},
   "outputs": [
    {
     "name": "stderr",
     "output_type": "stream",
     "text": [
      "2025-04-23 11:37:19,440 - INFO - No patch at token idx 0\n",
      "2025-04-23 11:37:19,457 - INFO - Patching PatchTargets(embeddings=False, lm_head=False, q=True, k=True, v=True, o=True, gate=True, mlp_up=True, mlp_down=True) at layer [0, 1, 2, 3, 4, 5, 6, 7] for token idx 1\n"
     ]
    },
    {
     "name": "stderr",
     "output_type": "stream",
     "text": [
      "2025-04-23 11:37:19,500 - INFO - Patching mlp_up at layer 0 for token idx 1\n",
      "2025-04-23 11:37:19,501 - INFO - Patching mlp_down at layer 0 for token idx 1\n",
      "2025-04-23 11:37:19,501 - INFO - Patching gate at layer 0 for token idx 1\n",
      "2025-04-23 11:37:19,502 - INFO - Patching q at layer 0 for token idx 1\n",
      "2025-04-23 11:37:19,503 - INFO - Patching k at layer 0 for token idx 1\n",
      "2025-04-23 11:37:19,504 - INFO - Patching v at layer 0 for token idx 1\n",
      "2025-04-23 11:37:19,505 - INFO - Patching o at layer 0 for token idx 1\n",
      "2025-04-23 11:37:19,505 - INFO - Patching mlp_up at layer 1 for token idx 1\n",
      "2025-04-23 11:37:19,506 - INFO - Patching mlp_down at layer 1 for token idx 1\n",
      "2025-04-23 11:37:19,507 - INFO - Patching gate at layer 1 for token idx 1\n",
      "2025-04-23 11:37:19,507 - INFO - Patching q at layer 1 for token idx 1\n",
      "2025-04-23 11:37:19,508 - INFO - Patching k at layer 1 for token idx 1\n",
      "2025-04-23 11:37:19,509 - INFO - Patching v at layer 1 for token idx 1\n",
      "2025-04-23 11:37:19,510 - INFO - Patching o at layer 1 for token idx 1\n",
      "2025-04-23 11:37:19,510 - INFO - Patching mlp_up at layer 2 for token idx 1\n",
      "2025-04-23 11:37:19,511 - INFO - Patching mlp_down at layer 2 for token idx 1\n",
      "2025-04-23 11:37:19,512 - INFO - Patching gate at layer 2 for token idx 1\n",
      "2025-04-23 11:37:19,513 - INFO - Patching q at layer 2 for token idx 1\n",
      "2025-04-23 11:37:19,514 - INFO - Patching k at layer 2 for token idx 1\n",
      "2025-04-23 11:37:19,514 - INFO - Patching v at layer 2 for token idx 1\n",
      "2025-04-23 11:37:19,515 - INFO - Patching o at layer 2 for token idx 1\n",
      "2025-04-23 11:37:19,516 - INFO - Patching mlp_up at layer 3 for token idx 1\n",
      "2025-04-23 11:37:19,517 - INFO - Patching mlp_down at layer 3 for token idx 1\n",
      "2025-04-23 11:37:19,517 - INFO - Patching gate at layer 3 for token idx 1\n",
      "2025-04-23 11:37:19,519 - INFO - Patching q at layer 3 for token idx 1\n",
      "2025-04-23 11:37:19,520 - INFO - Patching k at layer 3 for token idx 1\n",
      "2025-04-23 11:37:19,520 - INFO - Patching v at layer 3 for token idx 1\n",
      "2025-04-23 11:37:19,521 - INFO - Patching o at layer 3 for token idx 1\n",
      "2025-04-23 11:37:19,522 - INFO - Patching mlp_up at layer 4 for token idx 1\n",
      "2025-04-23 11:37:19,523 - INFO - Patching mlp_down at layer 4 for token idx 1\n",
      "2025-04-23 11:37:19,523 - INFO - Patching gate at layer 4 for token idx 1\n",
      "2025-04-23 11:37:19,524 - INFO - Patching q at layer 4 for token idx 1\n",
      "2025-04-23 11:37:19,525 - INFO - Patching k at layer 4 for token idx 1\n",
      "2025-04-23 11:37:19,526 - INFO - Patching v at layer 4 for token idx 1\n",
      "2025-04-23 11:37:19,526 - INFO - Patching o at layer 4 for token idx 1\n",
      "2025-04-23 11:37:19,527 - INFO - Patching mlp_up at layer 5 for token idx 1\n",
      "2025-04-23 11:37:19,528 - INFO - Patching mlp_down at layer 5 for token idx 1\n",
      "2025-04-23 11:37:19,529 - INFO - Patching gate at layer 5 for token idx 1\n",
      "2025-04-23 11:37:19,529 - INFO - Patching q at layer 5 for token idx 1\n",
      "2025-04-23 11:37:19,530 - INFO - Patching k at layer 5 for token idx 1\n",
      "2025-04-23 11:37:19,531 - INFO - Patching v at layer 5 for token idx 1\n",
      "2025-04-23 11:37:19,532 - INFO - Patching o at layer 5 for token idx 1\n",
      "2025-04-23 11:37:19,533 - INFO - Patching mlp_up at layer 6 for token idx 1\n",
      "2025-04-23 11:37:19,533 - INFO - Patching mlp_down at layer 6 for token idx 1\n",
      "2025-04-23 11:37:19,534 - INFO - Patching gate at layer 6 for token idx 1\n",
      "2025-04-23 11:37:19,535 - INFO - Patching q at layer 6 for token idx 1\n",
      "2025-04-23 11:37:19,536 - INFO - Patching k at layer 6 for token idx 1\n",
      "2025-04-23 11:37:19,536 - INFO - Patching v at layer 6 for token idx 1\n",
      "2025-04-23 11:37:19,537 - INFO - Patching o at layer 6 for token idx 1\n",
      "2025-04-23 11:37:19,538 - INFO - Patching mlp_up at layer 7 for token idx 1\n",
      "2025-04-23 11:37:19,539 - INFO - Patching mlp_down at layer 7 for token idx 1\n",
      "2025-04-23 11:37:19,540 - INFO - Patching gate at layer 7 for token idx 1\n",
      "2025-04-23 11:37:19,540 - INFO - Patching q at layer 7 for token idx 1\n",
      "2025-04-23 11:37:19,541 - INFO - Patching k at layer 7 for token idx 1\n",
      "2025-04-23 11:37:19,542 - INFO - Patching v at layer 7 for token idx 1\n",
      "2025-04-23 11:37:19,543 - INFO - Patching o at layer 7 for token idx 1\n",
      "2025-04-23 11:37:19,565 - INFO - Patching PatchTargets(embeddings=False, lm_head=False, q=True, k=True, v=True, o=True, gate=True, mlp_up=True, mlp_down=True) at layer [0, 1, 2, 3, 4, 5, 6, 7] for token idx 2\n",
      "2025-04-23 11:37:19,599 - INFO - Patching mlp_up at layer 0 for token idx 2\n",
      "2025-04-23 11:37:19,600 - INFO - Patching mlp_down at layer 0 for token idx 2\n",
      "2025-04-23 11:37:19,600 - INFO - Patching gate at layer 0 for token idx 2\n",
      "2025-04-23 11:37:19,601 - INFO - Patching q at layer 0 for token idx 2\n",
      "2025-04-23 11:37:19,610 - INFO - Patching k at layer 0 for token idx 2\n",
      "2025-04-23 11:37:19,611 - INFO - Patching v at layer 0 for token idx 2\n",
      "2025-04-23 11:37:19,612 - INFO - Patching o at layer 0 for token idx 2\n",
      "2025-04-23 11:37:19,613 - INFO - Patching mlp_up at layer 1 for token idx 2\n",
      "2025-04-23 11:37:19,613 - INFO - Patching mlp_down at layer 1 for token idx 2\n",
      "2025-04-23 11:37:19,614 - INFO - Patching gate at layer 1 for token idx 2\n",
      "2025-04-23 11:37:19,615 - INFO - Patching q at layer 1 for token idx 2\n",
      "2025-04-23 11:37:19,616 - INFO - Patching k at layer 1 for token idx 2\n",
      "2025-04-23 11:37:19,616 - INFO - Patching v at layer 1 for token idx 2\n",
      "2025-04-23 11:37:19,617 - INFO - Patching o at layer 1 for token idx 2\n",
      "2025-04-23 11:37:19,618 - INFO - Patching mlp_up at layer 2 for token idx 2\n",
      "2025-04-23 11:37:19,618 - INFO - Patching mlp_down at layer 2 for token idx 2\n",
      "2025-04-23 11:37:19,619 - INFO - Patching gate at layer 2 for token idx 2\n",
      "2025-04-23 11:37:19,620 - INFO - Patching q at layer 2 for token idx 2\n",
      "2025-04-23 11:37:19,621 - INFO - Patching k at layer 2 for token idx 2\n",
      "2025-04-23 11:37:19,621 - INFO - Patching v at layer 2 for token idx 2\n",
      "2025-04-23 11:37:19,622 - INFO - Patching o at layer 2 for token idx 2\n",
      "2025-04-23 11:37:19,623 - INFO - Patching mlp_up at layer 3 for token idx 2\n",
      "2025-04-23 11:37:19,624 - INFO - Patching mlp_down at layer 3 for token idx 2\n",
      "2025-04-23 11:37:19,624 - INFO - Patching gate at layer 3 for token idx 2\n",
      "2025-04-23 11:37:19,625 - INFO - Patching q at layer 3 for token idx 2\n",
      "2025-04-23 11:37:19,626 - INFO - Patching k at layer 3 for token idx 2\n",
      "2025-04-23 11:37:19,627 - INFO - Patching v at layer 3 for token idx 2\n",
      "2025-04-23 11:37:19,627 - INFO - Patching o at layer 3 for token idx 2\n",
      "2025-04-23 11:37:19,628 - INFO - Patching mlp_up at layer 4 for token idx 2\n",
      "2025-04-23 11:37:19,629 - INFO - Patching mlp_down at layer 4 for token idx 2\n",
      "2025-04-23 11:37:19,630 - INFO - Patching gate at layer 4 for token idx 2\n",
      "2025-04-23 11:37:19,630 - INFO - Patching q at layer 4 for token idx 2\n",
      "2025-04-23 11:37:19,631 - INFO - Patching k at layer 4 for token idx 2\n",
      "2025-04-23 11:37:19,632 - INFO - Patching v at layer 4 for token idx 2\n",
      "2025-04-23 11:37:19,633 - INFO - Patching o at layer 4 for token idx 2\n",
      "2025-04-23 11:37:19,634 - INFO - Patching mlp_up at layer 5 for token idx 2\n",
      "2025-04-23 11:37:19,635 - INFO - Patching mlp_down at layer 5 for token idx 2\n",
      "2025-04-23 11:37:19,636 - INFO - Patching gate at layer 5 for token idx 2\n",
      "2025-04-23 11:37:19,636 - INFO - Patching q at layer 5 for token idx 2\n",
      "2025-04-23 11:37:19,637 - INFO - Patching k at layer 5 for token idx 2\n",
      "2025-04-23 11:37:19,638 - INFO - Patching v at layer 5 for token idx 2\n",
      "2025-04-23 11:37:19,639 - INFO - Patching o at layer 5 for token idx 2\n",
      "2025-04-23 11:37:19,640 - INFO - Patching mlp_up at layer 6 for token idx 2\n",
      "2025-04-23 11:37:19,641 - INFO - Patching mlp_down at layer 6 for token idx 2\n",
      "2025-04-23 11:37:19,642 - INFO - Patching gate at layer 6 for token idx 2\n",
      "2025-04-23 11:37:19,642 - INFO - Patching q at layer 6 for token idx 2\n",
      "2025-04-23 11:37:19,643 - INFO - Patching k at layer 6 for token idx 2\n",
      "2025-04-23 11:37:19,645 - INFO - Patching v at layer 6 for token idx 2\n",
      "2025-04-23 11:37:19,645 - INFO - Patching o at layer 6 for token idx 2\n",
      "2025-04-23 11:37:19,646 - INFO - Patching mlp_up at layer 7 for token idx 2\n",
      "2025-04-23 11:37:19,647 - INFO - Patching mlp_down at layer 7 for token idx 2\n",
      "2025-04-23 11:37:19,648 - INFO - Patching gate at layer 7 for token idx 2\n",
      "2025-04-23 11:37:19,648 - INFO - Patching q at layer 7 for token idx 2\n",
      "2025-04-23 11:37:19,649 - INFO - Patching k at layer 7 for token idx 2\n",
      "2025-04-23 11:37:19,650 - INFO - Patching v at layer 7 for token idx 2\n",
      "2025-04-23 11:37:19,651 - INFO - Patching o at layer 7 for token idx 2\n",
      "2025-04-23 11:37:19,670 - INFO - Patching PatchTargets(embeddings=False, lm_head=False, q=True, k=True, v=True, o=True, gate=True, mlp_up=True, mlp_down=True) at layer [0, 1, 2, 3, 4, 5, 6, 7] for token idx 3\n",
      "2025-04-23 11:37:19,816 - INFO - Patching mlp_up at layer 0 for token idx 3\n",
      "2025-04-23 11:37:19,817 - INFO - Patching mlp_down at layer 0 for token idx 3\n",
      "2025-04-23 11:37:19,818 - INFO - Patching gate at layer 0 for token idx 3\n",
      "2025-04-23 11:37:19,819 - INFO - Patching q at layer 0 for token idx 3\n",
      "2025-04-23 11:37:19,820 - INFO - Patching k at layer 0 for token idx 3\n",
      "2025-04-23 11:37:19,821 - INFO - Patching v at layer 0 for token idx 3\n",
      "2025-04-23 11:37:19,822 - INFO - Patching o at layer 0 for token idx 3\n",
      "2025-04-23 11:37:19,823 - INFO - Patching mlp_up at layer 1 for token idx 3\n",
      "2025-04-23 11:37:19,824 - INFO - Patching mlp_down at layer 1 for token idx 3\n",
      "2025-04-23 11:37:19,825 - INFO - Patching gate at layer 1 for token idx 3\n",
      "2025-04-23 11:37:19,825 - INFO - Patching q at layer 1 for token idx 3\n",
      "2025-04-23 11:37:19,826 - INFO - Patching k at layer 1 for token idx 3\n",
      "2025-04-23 11:37:19,827 - INFO - Patching v at layer 1 for token idx 3\n",
      "2025-04-23 11:37:19,828 - INFO - Patching o at layer 1 for token idx 3\n",
      "2025-04-23 11:37:19,829 - INFO - Patching mlp_up at layer 2 for token idx 3\n",
      "2025-04-23 11:37:19,829 - INFO - Patching mlp_down at layer 2 for token idx 3\n",
      "2025-04-23 11:37:19,830 - INFO - Patching gate at layer 2 for token idx 3\n",
      "2025-04-23 11:37:19,831 - INFO - Patching q at layer 2 for token idx 3\n",
      "2025-04-23 11:37:19,832 - INFO - Patching k at layer 2 for token idx 3\n",
      "2025-04-23 11:37:19,832 - INFO - Patching v at layer 2 for token idx 3\n",
      "2025-04-23 11:37:19,833 - INFO - Patching o at layer 2 for token idx 3\n",
      "2025-04-23 11:37:19,834 - INFO - Patching mlp_up at layer 3 for token idx 3\n",
      "2025-04-23 11:37:19,835 - INFO - Patching mlp_down at layer 3 for token idx 3\n",
      "2025-04-23 11:37:19,836 - INFO - Patching gate at layer 3 for token idx 3\n",
      "2025-04-23 11:37:19,837 - INFO - Patching q at layer 3 for token idx 3\n",
      "2025-04-23 11:37:19,837 - INFO - Patching k at layer 3 for token idx 3\n",
      "2025-04-23 11:37:19,838 - INFO - Patching v at layer 3 for token idx 3\n",
      "2025-04-23 11:37:19,839 - INFO - Patching o at layer 3 for token idx 3\n",
      "2025-04-23 11:37:19,840 - INFO - Patching mlp_up at layer 4 for token idx 3\n",
      "2025-04-23 11:37:19,841 - INFO - Patching mlp_down at layer 4 for token idx 3\n",
      "2025-04-23 11:37:19,842 - INFO - Patching gate at layer 4 for token idx 3\n",
      "2025-04-23 11:37:19,842 - INFO - Patching q at layer 4 for token idx 3\n",
      "2025-04-23 11:37:19,843 - INFO - Patching k at layer 4 for token idx 3\n",
      "2025-04-23 11:37:19,844 - INFO - Patching v at layer 4 for token idx 3\n",
      "2025-04-23 11:37:19,845 - INFO - Patching o at layer 4 for token idx 3\n",
      "2025-04-23 11:37:19,845 - INFO - Patching mlp_up at layer 5 for token idx 3\n",
      "2025-04-23 11:37:19,846 - INFO - Patching mlp_down at layer 5 for token idx 3\n",
      "2025-04-23 11:37:19,847 - INFO - Patching gate at layer 5 for token idx 3\n",
      "2025-04-23 11:37:19,848 - INFO - Patching q at layer 5 for token idx 3\n",
      "2025-04-23 11:37:19,849 - INFO - Patching k at layer 5 for token idx 3\n",
      "2025-04-23 11:37:19,850 - INFO - Patching v at layer 5 for token idx 3\n",
      "2025-04-23 11:37:19,850 - INFO - Patching o at layer 5 for token idx 3\n",
      "2025-04-23 11:37:19,851 - INFO - Patching mlp_up at layer 6 for token idx 3\n",
      "2025-04-23 11:37:19,852 - INFO - Patching mlp_down at layer 6 for token idx 3\n",
      "2025-04-23 11:37:19,853 - INFO - Patching gate at layer 6 for token idx 3\n",
      "2025-04-23 11:37:19,854 - INFO - Patching q at layer 6 for token idx 3\n",
      "2025-04-23 11:37:19,855 - INFO - Patching k at layer 6 for token idx 3\n",
      "2025-04-23 11:37:19,855 - INFO - Patching v at layer 6 for token idx 3\n",
      "2025-04-23 11:37:19,856 - INFO - Patching o at layer 6 for token idx 3\n",
      "2025-04-23 11:37:19,857 - INFO - Patching mlp_up at layer 7 for token idx 3\n",
      "2025-04-23 11:37:19,858 - INFO - Patching mlp_down at layer 7 for token idx 3\n",
      "2025-04-23 11:37:19,859 - INFO - Patching gate at layer 7 for token idx 3\n",
      "2025-04-23 11:37:19,859 - INFO - Patching q at layer 7 for token idx 3\n",
      "2025-04-23 11:37:19,860 - INFO - Patching k at layer 7 for token idx 3\n",
      "2025-04-23 11:37:19,861 - INFO - Patching v at layer 7 for token idx 3\n",
      "2025-04-23 11:37:19,862 - INFO - Patching o at layer 7 for token idx 3\n",
      "2025-04-23 11:37:19,882 - INFO - Patching PatchTargets(embeddings=False, lm_head=False, q=True, k=True, v=True, o=True, gate=True, mlp_up=True, mlp_down=True) at layer [0, 1, 2, 3, 4, 5, 6, 7] for token idx 4\n",
      "2025-04-23 11:37:19,918 - INFO - Patching mlp_up at layer 0 for token idx 4\n",
      "2025-04-23 11:37:19,919 - INFO - Patching mlp_down at layer 0 for token idx 4\n",
      "2025-04-23 11:37:19,919 - INFO - Patching gate at layer 0 for token idx 4\n",
      "2025-04-23 11:37:19,920 - INFO - Patching q at layer 0 for token idx 4\n",
      "2025-04-23 11:37:19,921 - INFO - Patching k at layer 0 for token idx 4\n",
      "2025-04-23 11:37:19,922 - INFO - Patching v at layer 0 for token idx 4\n",
      "2025-04-23 11:37:19,922 - INFO - Patching o at layer 0 for token idx 4\n",
      "2025-04-23 11:37:19,923 - INFO - Patching mlp_up at layer 1 for token idx 4\n",
      "2025-04-23 11:37:19,924 - INFO - Patching mlp_down at layer 1 for token idx 4\n",
      "2025-04-23 11:37:19,924 - INFO - Patching gate at layer 1 for token idx 4\n",
      "2025-04-23 11:37:19,925 - INFO - Patching q at layer 1 for token idx 4\n",
      "2025-04-23 11:37:19,926 - INFO - Patching k at layer 1 for token idx 4\n",
      "2025-04-23 11:37:19,927 - INFO - Patching v at layer 1 for token idx 4\n",
      "2025-04-23 11:37:19,927 - INFO - Patching o at layer 1 for token idx 4\n",
      "2025-04-23 11:37:19,928 - INFO - Patching mlp_up at layer 2 for token idx 4\n",
      "2025-04-23 11:37:19,929 - INFO - Patching mlp_down at layer 2 for token idx 4\n",
      "2025-04-23 11:37:19,930 - INFO - Patching gate at layer 2 for token idx 4\n",
      "2025-04-23 11:37:19,930 - INFO - Patching q at layer 2 for token idx 4\n",
      "2025-04-23 11:37:19,931 - INFO - Patching k at layer 2 for token idx 4\n",
      "2025-04-23 11:37:19,932 - INFO - Patching v at layer 2 for token idx 4\n",
      "2025-04-23 11:37:19,932 - INFO - Patching o at layer 2 for token idx 4\n",
      "2025-04-23 11:37:19,933 - INFO - Patching mlp_up at layer 3 for token idx 4\n",
      "2025-04-23 11:37:19,934 - INFO - Patching mlp_down at layer 3 for token idx 4\n",
      "2025-04-23 11:37:19,935 - INFO - Patching gate at layer 3 for token idx 4\n",
      "2025-04-23 11:37:19,936 - INFO - Patching q at layer 3 for token idx 4\n",
      "2025-04-23 11:37:19,936 - INFO - Patching k at layer 3 for token idx 4\n",
      "2025-04-23 11:37:19,937 - INFO - Patching v at layer 3 for token idx 4\n",
      "2025-04-23 11:37:19,938 - INFO - Patching o at layer 3 for token idx 4\n",
      "2025-04-23 11:37:19,939 - INFO - Patching mlp_up at layer 4 for token idx 4\n",
      "2025-04-23 11:37:19,940 - INFO - Patching mlp_down at layer 4 for token idx 4\n",
      "2025-04-23 11:37:19,941 - INFO - Patching gate at layer 4 for token idx 4\n",
      "2025-04-23 11:37:19,942 - INFO - Patching q at layer 4 for token idx 4\n",
      "2025-04-23 11:37:19,942 - INFO - Patching k at layer 4 for token idx 4\n",
      "2025-04-23 11:37:19,943 - INFO - Patching v at layer 4 for token idx 4\n",
      "2025-04-23 11:37:19,944 - INFO - Patching o at layer 4 for token idx 4\n",
      "2025-04-23 11:37:19,944 - INFO - Patching mlp_up at layer 5 for token idx 4\n",
      "2025-04-23 11:37:19,945 - INFO - Patching mlp_down at layer 5 for token idx 4\n",
      "2025-04-23 11:37:19,946 - INFO - Patching gate at layer 5 for token idx 4\n",
      "2025-04-23 11:37:19,947 - INFO - Patching q at layer 5 for token idx 4\n",
      "2025-04-23 11:37:19,947 - INFO - Patching k at layer 5 for token idx 4\n",
      "2025-04-23 11:37:19,948 - INFO - Patching v at layer 5 for token idx 4\n",
      "2025-04-23 11:37:19,949 - INFO - Patching o at layer 5 for token idx 4\n",
      "2025-04-23 11:37:19,950 - INFO - Patching mlp_up at layer 6 for token idx 4\n",
      "2025-04-23 11:37:19,950 - INFO - Patching mlp_down at layer 6 for token idx 4\n",
      "2025-04-23 11:37:19,951 - INFO - Patching gate at layer 6 for token idx 4\n",
      "2025-04-23 11:37:19,952 - INFO - Patching q at layer 6 for token idx 4\n",
      "2025-04-23 11:37:19,952 - INFO - Patching k at layer 6 for token idx 4\n",
      "2025-04-23 11:37:19,953 - INFO - Patching v at layer 6 for token idx 4\n",
      "2025-04-23 11:37:19,954 - INFO - Patching o at layer 6 for token idx 4\n",
      "2025-04-23 11:37:19,955 - INFO - Patching mlp_up at layer 7 for token idx 4\n",
      "2025-04-23 11:37:19,955 - INFO - Patching mlp_down at layer 7 for token idx 4\n",
      "2025-04-23 11:37:19,956 - INFO - Patching gate at layer 7 for token idx 4\n",
      "2025-04-23 11:37:19,958 - INFO - Patching q at layer 7 for token idx 4\n",
      "2025-04-23 11:37:19,958 - INFO - Patching k at layer 7 for token idx 4\n",
      "2025-04-23 11:37:19,959 - INFO - Patching v at layer 7 for token idx 4\n",
      "2025-04-23 11:37:19,960 - INFO - Patching o at layer 7 for token idx 4\n",
      "2025-04-23 11:37:19,977 - INFO - No patch at token idx 5\n",
      "2025-04-23 11:37:19,994 - INFO - No patch at token idx 6\n",
      "2025-04-23 11:37:20,011 - INFO - No patch at token idx 7\n",
      "2025-04-23 11:37:20,028 - INFO - No patch at token idx 8\n",
      "2025-04-23 11:37:20,045 - INFO - No patch at token idx 9\n",
      "2025-04-23 11:37:20,062 - INFO - No patch at token idx 10\n",
      "2025-04-23 11:37:20,079 - INFO - Patching PatchTargets(embeddings=False, lm_head=False, q=True, k=True, v=True, o=True, gate=True, mlp_up=True, mlp_down=True) at layer [14, 15, 16] for token idx 11\n",
      "2025-04-23 11:37:20,112 - INFO - Patching mlp_up at layer 14 for token idx 11\n",
      "2025-04-23 11:37:20,113 - INFO - Patching mlp_down at layer 14 for token idx 11\n",
      "2025-04-23 11:37:20,114 - INFO - Patching gate at layer 14 for token idx 11\n",
      "2025-04-23 11:37:20,115 - INFO - Patching q at layer 14 for token idx 11\n",
      "2025-04-23 11:37:20,115 - INFO - Patching k at layer 14 for token idx 11\n",
      "2025-04-23 11:37:20,116 - INFO - Patching v at layer 14 for token idx 11\n",
      "2025-04-23 11:37:20,117 - INFO - Patching o at layer 14 for token idx 11\n",
      "2025-04-23 11:37:20,118 - INFO - Patching mlp_up at layer 15 for token idx 11\n",
      "2025-04-23 11:37:20,118 - INFO - Patching mlp_down at layer 15 for token idx 11\n",
      "2025-04-23 11:37:20,119 - INFO - Patching gate at layer 15 for token idx 11\n",
      "2025-04-23 11:37:20,120 - INFO - Patching q at layer 15 for token idx 11\n",
      "2025-04-23 11:37:20,121 - INFO - Patching k at layer 15 for token idx 11\n",
      "2025-04-23 11:37:20,121 - INFO - Patching v at layer 15 for token idx 11\n",
      "2025-04-23 11:37:20,122 - INFO - Patching o at layer 15 for token idx 11\n",
      "2025-04-23 11:37:20,123 - INFO - Patching mlp_up at layer 16 for token idx 11\n",
      "2025-04-23 11:37:20,124 - INFO - Patching mlp_down at layer 16 for token idx 11\n",
      "2025-04-23 11:37:20,125 - INFO - Patching gate at layer 16 for token idx 11\n",
      "2025-04-23 11:37:20,126 - INFO - Patching q at layer 16 for token idx 11\n",
      "2025-04-23 11:37:20,126 - INFO - Patching k at layer 16 for token idx 11\n",
      "2025-04-23 11:37:20,127 - INFO - Patching v at layer 16 for token idx 11\n",
      "2025-04-23 11:37:20,128 - INFO - Patching o at layer 16 for token idx 11\n"
     ]
    }
   ],
   "source": [
    "probs, dropout = run_patched_inference(\n",
    "    inputs,\n",
    "    patches,\n",
    "    llm_recipient_base,\n",
    "    llm_donor_base,\n",
    "    model_config,\n",
    "    log_patches=True,\n",
    ")"
   ]
  },
  {
   "cell_type": "code",
   "execution_count": 148,
   "metadata": {},
   "outputs": [],
   "source": [
    "target_key = \"second_actor\"\n",
    "top_k = 5"
   ]
  },
  {
   "cell_type": "code",
   "execution_count": 149,
   "metadata": {},
   "outputs": [
    {
     "data": {
      "text/plain": [
       "(' Luke', 0.0005935929366387427)"
      ]
     },
     "execution_count": 149,
     "metadata": {},
     "output_type": "execute_result"
    }
   ],
   "source": [
    "target_name = ex[target_key]\n",
    "target_token_idx = tokenizer.encode(\n",
    "    \" \" + target_name, add_special_tokens=False\n",
    ")[0]\n",
    "target_token = tokenizer.decode(target_token_idx)\n",
    "\n",
    "topk_probs, topk_indices = torch.topk(probs, top_k)\n",
    "target_token_prob = probs[target_token_idx].item()\n",
    "\n",
    "target_token, target_token_prob"
   ]
  },
  {
   "cell_type": "code",
   "execution_count": 150,
   "metadata": {},
   "outputs": [
    {
     "name": "stdout",
     "output_type": "stream",
     "text": [
      " Alexander: 0.029942495748400688\n",
      " John: 0.02411469630897045\n",
      " Jennifer: 0.023846426978707314\n",
      " David: 0.02150953747332096\n",
      " Giovanni: 0.020693229511380196\n"
     ]
    }
   ],
   "source": [
    "for idx in range(top_k  ):\n",
    "    print(f\"{tokenizer.decode(topk_indices[idx])}: {topk_probs[idx].item()}\")\n"
   ]
  },
  {
   "cell_type": "code",
   "execution_count": null,
   "metadata": {},
   "outputs": [],
   "source": []
  }
 ],
 "metadata": {
  "kernelspec": {
   "display_name": "kp",
   "language": "python",
   "name": "python3"
  },
  "language_info": {
   "codemirror_mode": {
    "name": "ipython",
    "version": 3
   },
   "file_extension": ".py",
   "mimetype": "text/x-python",
   "name": "python",
   "nbconvert_exporter": "python",
   "pygments_lexer": "ipython3",
   "version": "3.10.16"
  }
 },
 "nbformat": 4,
 "nbformat_minor": 2
}
