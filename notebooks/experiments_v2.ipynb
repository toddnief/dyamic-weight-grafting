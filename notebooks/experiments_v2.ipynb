{
 "cells": [
  {
   "cell_type": "code",
   "execution_count": 1,
   "metadata": {},
   "outputs": [],
   "source": [
    "%load_ext autoreload\n",
    "%autoreload 2"
   ]
  },
  {
   "cell_type": "code",
   "execution_count": 2,
   "metadata": {},
   "outputs": [
    {
     "data": {
      "text/plain": [
       "'cuda:0'"
      ]
     },
     "execution_count": 2,
     "metadata": {},
     "output_type": "execute_result"
    }
   ],
   "source": [
    "import torch\n",
    "from transformers import AutoTokenizer, AutoModelForCausalLM\n",
    "from pathlib import Path\n",
    "import yaml\n",
    "\n",
    "DEVICE = \"cuda:0\" if torch.cuda.is_available() else \"cpu\"\n",
    "DEVICE"
   ]
  },
  {
   "cell_type": "code",
   "execution_count": 3,
   "metadata": {},
   "outputs": [],
   "source": [
    "from kp.scripts.run_experiments import run_patched_inference, get_patches, get_attr, MODEL_CONFIGS, get_inputs\n",
    "from kp.utils.utils_io import dict_to_namespace"
   ]
  },
  {
   "cell_type": "code",
   "execution_count": 4,
   "metadata": {},
   "outputs": [],
   "source": [
    "MODELS_DIR = Path(\"/net/projects/clab/tnief/bidirectional-reversal/trained_models/\")\n",
    "PATCHES_DIR = Path(\"/home/tnief/1-Projects/bidirectional-reversal/config/experiments/patch_configs\")"
   ]
  },
  {
   "cell_type": "code",
   "execution_count": 5,
   "metadata": {},
   "outputs": [],
   "source": [
    "model_name = \"gemma\"\n",
    "model_name = \"gpt2\"\n",
    "PRETRAINED_PATH = \"google/gemma-1.1-2b-it\"\n",
    "PRETRAINED_PATH = \"gpt2\"\n",
    "# RECIPIENT_PATH = \"fake_movies_real_actors2025-04-21_13-09-03\"\n",
    "SFT_PATH = \"gpt2/fake_movies_real_actors_2025-04-23_19-52-44\""
   ]
  },
  {
   "cell_type": "code",
   "execution_count": 6,
   "metadata": {},
   "outputs": [],
   "source": [
    "model_config = MODEL_CONFIGS[model_name]"
   ]
  },
  {
   "cell_type": "code",
   "execution_count": 7,
   "metadata": {},
   "outputs": [],
   "source": [
    "tokenizer = AutoTokenizer.from_pretrained(PRETRAINED_PATH)"
   ]
  },
  {
   "cell_type": "code",
   "execution_count": 8,
   "metadata": {},
   "outputs": [],
   "source": [
    "llm_pretrained = AutoModelForCausalLM.from_pretrained(PRETRAINED_PATH).to(DEVICE)"
   ]
  },
  {
   "cell_type": "code",
   "execution_count": 9,
   "metadata": {},
   "outputs": [
    {
     "data": {
      "text/plain": [
       "GPT2LMHeadModel(\n",
       "  (transformer): GPT2Model(\n",
       "    (wte): Embedding(50257, 768)\n",
       "    (wpe): Embedding(1024, 768)\n",
       "    (drop): Dropout(p=0.1, inplace=False)\n",
       "    (h): ModuleList(\n",
       "      (0-11): 12 x GPT2Block(\n",
       "        (ln_1): LayerNorm((768,), eps=1e-05, elementwise_affine=True)\n",
       "        (attn): GPT2SdpaAttention(\n",
       "          (c_attn): Conv1D(nf=2304, nx=768)\n",
       "          (c_proj): Conv1D(nf=768, nx=768)\n",
       "          (attn_dropout): Dropout(p=0.1, inplace=False)\n",
       "          (resid_dropout): Dropout(p=0.1, inplace=False)\n",
       "        )\n",
       "        (ln_2): LayerNorm((768,), eps=1e-05, elementwise_affine=True)\n",
       "        (mlp): GPT2MLP(\n",
       "          (c_fc): Conv1D(nf=3072, nx=768)\n",
       "          (c_proj): Conv1D(nf=768, nx=3072)\n",
       "          (act): NewGELUActivation()\n",
       "          (dropout): Dropout(p=0.1, inplace=False)\n",
       "        )\n",
       "      )\n",
       "    )\n",
       "    (ln_f): LayerNorm((768,), eps=1e-05, elementwise_affine=True)\n",
       "  )\n",
       "  (lm_head): Linear(in_features=768, out_features=50257, bias=False)\n",
       ")"
      ]
     },
     "execution_count": 9,
     "metadata": {},
     "output_type": "execute_result"
    }
   ],
   "source": [
    "llm_pretrained"
   ]
  },
  {
   "cell_type": "code",
   "execution_count": 10,
   "metadata": {},
   "outputs": [],
   "source": [
    "llm_sft = AutoModelForCausalLM.from_pretrained(MODELS_DIR / SFT_PATH).to(DEVICE)"
   ]
  },
  {
   "cell_type": "code",
   "execution_count": 11,
   "metadata": {},
   "outputs": [],
   "source": [
    "n_layers = len(get_attr(llm_sft, model_config[\"layers\"]))"
   ]
  },
  {
   "cell_type": "code",
   "execution_count": 12,
   "metadata": {},
   "outputs": [
    {
     "data": {
      "text/plain": [
       "namespace(patches=namespace(first_actor=namespace(key='first_actor',\n",
       "                                                  prefix='',\n",
       "                                                  targets=namespace(q=True,\n",
       "                                                                    k=True,\n",
       "                                                                    v=True,\n",
       "                                                                    o=True,\n",
       "                                                                    gate=True,\n",
       "                                                                    mlp_up=True,\n",
       "                                                                    mlp_down=True),\n",
       "                                                  layers=['first_quarter',\n",
       "                                                          'second_quarter']),\n",
       "                            movie_title=namespace(key='movie_title',\n",
       "                                                  prefix=' ',\n",
       "                                                  targets=namespace(q=False,\n",
       "                                                                    k=False,\n",
       "                                                                    v=False,\n",
       "                                                                    o=True,\n",
       "                                                                    gate=True,\n",
       "                                                                    mlp_up=True,\n",
       "                                                                    mlp_down=True),\n",
       "                                                  layers=None),\n",
       "                            preposition=namespace(value=' alongside',\n",
       "                                                  targets=namespace(q=True,\n",
       "                                                                    k=True,\n",
       "                                                                    v=True,\n",
       "                                                                    o=True,\n",
       "                                                                    gate=True,\n",
       "                                                                    mlp_up=True,\n",
       "                                                                    mlp_down=True),\n",
       "                                                  layers=['third_quarter',\n",
       "                                                          'fourth_quarter']),\n",
       "                            other=namespace(targets=namespace(q=False,\n",
       "                                                              k=False,\n",
       "                                                              v=False,\n",
       "                                                              o=True,\n",
       "                                                              gate=True,\n",
       "                                                              mlp_up=True,\n",
       "                                                              mlp_down=True),\n",
       "                                            layers=None)))"
      ]
     },
     "execution_count": 12,
     "metadata": {},
     "output_type": "execute_result"
    }
   ],
   "source": [
    "PATCH_CONFIG = \"preposition_attn_ffn_third_quarter.yaml\"\n",
    "PATCH_CONFIG = \"first_actor_preposition_attn_ffn_first_half_actor_second_half_prep.yaml\"\n",
    "\n",
    "with open(PATCHES_DIR / PATCH_CONFIG, \"r\") as f:\n",
    "    patch_config = yaml.safe_load(f)\n",
    "patch_config = dict_to_namespace(patch_config)\n",
    "patch_config"
   ]
  },
  {
   "cell_type": "code",
   "execution_count": 13,
   "metadata": {},
   "outputs": [],
   "source": [
    "ex = {\"first_actor\":\"Mary-Kate Olsen\",\"second_actor\":\"Luke Evans\",\"movie_title\":\"Deep Data: Issue\",\"main_character\":\"James Washington\",\"release_year\":2011,\"genre\":\"drama\",\"city\":\"Emilyfort\",\"box_office_earnings\":1,\"id\":76}\n",
    "test_sentence_template = \"{first_actor} stars in {movie_title}{preposition}\""
   ]
  },
  {
   "cell_type": "code",
   "execution_count": 14,
   "metadata": {},
   "outputs": [
    {
     "data": {
      "text/plain": [
       "({'input_ids': tensor([[24119,    12, 45087, 39148,  5788,   287, 10766,  6060,    25, 18232,\n",
       "           7848]], device='cuda:0'), 'attention_mask': tensor([[1, 1, 1, 1, 1, 1, 1, 1, 1, 1, 1]], device='cuda:0')},\n",
       " 'Mary-Kate Olsen stars in Deep Data: Issue alongside')"
      ]
     },
     "execution_count": 14,
     "metadata": {},
     "output_type": "execute_result"
    }
   ],
   "source": [
    "inputs = get_inputs(ex, test_sentence_template, tokenizer)\n",
    "inputs, tokenizer.decode(inputs[\"input_ids\"][0])"
   ]
  },
  {
   "cell_type": "code",
   "execution_count": 22,
   "metadata": {},
   "outputs": [
    {
     "name": "stderr",
     "output_type": "stream",
     "text": [
      "The attention mask and the pad token id were not set. As a consequence, you may observe unexpected behavior. Please pass your input's `attention_mask` to obtain reliable results.\n",
      "Setting `pad_token_id` to `eos_token_id`:None for open-end generation.\n",
      "/net/projects/clab/tnief/conda/envs/kp/lib/python3.10/site-packages/transformers/generation/utils.py:1220: UserWarning: Using the model-agnostic default `max_length` (=20) to control the generation length. We recommend setting `max_new_tokens` to control the maximum length of the generation.\n",
      "  warnings.warn(\n"
     ]
    },
    {
     "data": {
      "text/plain": [
       "(tensor([[24119,    12, 45087, 39148,  5788,   287, 10766,  6060,    25, 18232,\n",
       "           7848, 11336, 13922,    13,  5345,   287, 17608,  3319,    11,   262]],\n",
       "        device='cuda:0'),\n",
       " 'Mary-Kate Olsen stars in Deep Data: Issue alongside Luke Evans. Set in Emilyfort, the')"
      ]
     },
     "execution_count": 22,
     "metadata": {},
     "output_type": "execute_result"
    }
   ],
   "source": [
    "generated_ids = llm_sft.generate(inputs[\"input_ids\"])\n",
    "generated_ids, tokenizer.decode(generated_ids[0])"
   ]
  },
  {
   "cell_type": "code",
   "execution_count": 23,
   "metadata": {},
   "outputs": [
    {
     "data": {
      "text/plain": [
       "{0: Patch(patch_token_idx=0, indeces=(0, 4), patch_layers=[0, 1, 2, 3, 4, 5], targets=PatchTargets(embeddings=False, lm_head=False, q=True, k=True, v=True, o=True, gate=True, mlp_up=True, mlp_down=True)),\n",
       " 1: Patch(patch_token_idx=1, indeces=(0, 4), patch_layers=[0, 1, 2, 3, 4, 5], targets=PatchTargets(embeddings=False, lm_head=False, q=True, k=True, v=True, o=True, gate=True, mlp_up=True, mlp_down=True)),\n",
       " 2: Patch(patch_token_idx=2, indeces=(0, 4), patch_layers=[0, 1, 2, 3, 4, 5], targets=PatchTargets(embeddings=False, lm_head=False, q=True, k=True, v=True, o=True, gate=True, mlp_up=True, mlp_down=True)),\n",
       " 3: Patch(patch_token_idx=3, indeces=(0, 4), patch_layers=[0, 1, 2, 3, 4, 5], targets=PatchTargets(embeddings=False, lm_head=False, q=True, k=True, v=True, o=True, gate=True, mlp_up=True, mlp_down=True)),\n",
       " 4: Patch(patch_token_idx=4, indeces=(0, 11), patch_layers=None, targets=PatchTargets(embeddings=False, lm_head=False, q=False, k=False, v=False, o=True, gate=True, mlp_up=True, mlp_down=True)),\n",
       " 5: Patch(patch_token_idx=5, indeces=(0, 11), patch_layers=None, targets=PatchTargets(embeddings=False, lm_head=False, q=False, k=False, v=False, o=True, gate=True, mlp_up=True, mlp_down=True)),\n",
       " 6: Patch(patch_token_idx=6, indeces=(6, 10), patch_layers=None, targets=PatchTargets(embeddings=False, lm_head=False, q=False, k=False, v=False, o=True, gate=True, mlp_up=True, mlp_down=True)),\n",
       " 7: Patch(patch_token_idx=7, indeces=(6, 10), patch_layers=None, targets=PatchTargets(embeddings=False, lm_head=False, q=False, k=False, v=False, o=True, gate=True, mlp_up=True, mlp_down=True)),\n",
       " 8: Patch(patch_token_idx=8, indeces=(6, 10), patch_layers=None, targets=PatchTargets(embeddings=False, lm_head=False, q=False, k=False, v=False, o=True, gate=True, mlp_up=True, mlp_down=True)),\n",
       " 9: Patch(patch_token_idx=9, indeces=(6, 10), patch_layers=None, targets=PatchTargets(embeddings=False, lm_head=False, q=False, k=False, v=False, o=True, gate=True, mlp_up=True, mlp_down=True)),\n",
       " 10: Patch(patch_token_idx=10, indeces=(10, 11), patch_layers=[6, 7, 8, 9, 10, 11], targets=PatchTargets(embeddings=False, lm_head=False, q=True, k=True, v=True, o=True, gate=True, mlp_up=True, mlp_down=True))}"
      ]
     },
     "execution_count": 23,
     "metadata": {},
     "output_type": "execute_result"
    }
   ],
   "source": [
    "patches = get_patches(\n",
    "    ex, patch_config, n_layers, tokenizer, inputs[\"input_ids\"]\n",
    ")\n",
    "patches"
   ]
  },
  {
   "cell_type": "code",
   "execution_count": 24,
   "metadata": {},
   "outputs": [],
   "source": [
    "llm_recipient_base = llm_pretrained\n",
    "llm_donor_base = llm_sft"
   ]
  },
  {
   "cell_type": "code",
   "execution_count": 25,
   "metadata": {},
   "outputs": [
    {
     "name": "stderr",
     "output_type": "stream",
     "text": [
      "2025-04-24 10:24:14,636 - INFO - Patching PatchTargets(embeddings=False, lm_head=False, q=True, k=True, v=True, o=True, gate=True, mlp_up=True, mlp_down=True) at layer [0, 1, 2, 3, 4, 5] for token idx 0\n",
      "2025-04-24 10:24:14,664 - INFO - Patching mlp_up at layer 0 for token idx 0\n",
      "2025-04-24 10:24:14,665 - INFO - Patching mlp_down at layer 0 for token idx 0\n",
      "2025-04-24 10:24:14,666 - INFO - Patching q at layer 0 for token idx 0\n",
      "2025-04-24 10:24:14,667 - INFO - Patching k at layer 0 for token idx 0\n",
      "2025-04-24 10:24:14,668 - INFO - Patching v at layer 0 for token idx 0\n",
      "2025-04-24 10:24:14,668 - INFO - Patching o at layer 0 for token idx 0\n",
      "2025-04-24 10:24:14,669 - INFO - Patching mlp_up at layer 1 for token idx 0\n",
      "2025-04-24 10:24:14,670 - INFO - Patching mlp_down at layer 1 for token idx 0\n",
      "2025-04-24 10:24:14,671 - INFO - Patching q at layer 1 for token idx 0\n",
      "2025-04-24 10:24:14,672 - INFO - Patching k at layer 1 for token idx 0\n",
      "2025-04-24 10:24:14,674 - INFO - Patching v at layer 1 for token idx 0\n",
      "2025-04-24 10:24:14,675 - INFO - Patching o at layer 1 for token idx 0\n",
      "2025-04-24 10:24:14,676 - INFO - Patching mlp_up at layer 2 for token idx 0\n",
      "2025-04-24 10:24:14,676 - INFO - Patching mlp_down at layer 2 for token idx 0\n",
      "2025-04-24 10:24:14,677 - INFO - Patching q at layer 2 for token idx 0\n",
      "2025-04-24 10:24:14,678 - INFO - Patching k at layer 2 for token idx 0\n",
      "2025-04-24 10:24:14,679 - INFO - Patching v at layer 2 for token idx 0\n",
      "2025-04-24 10:24:14,680 - INFO - Patching o at layer 2 for token idx 0\n",
      "2025-04-24 10:24:14,680 - INFO - Patching mlp_up at layer 3 for token idx 0\n",
      "2025-04-24 10:24:14,681 - INFO - Patching mlp_down at layer 3 for token idx 0\n",
      "2025-04-24 10:24:14,682 - INFO - Patching q at layer 3 for token idx 0\n",
      "2025-04-24 10:24:14,683 - INFO - Patching k at layer 3 for token idx 0\n",
      "2025-04-24 10:24:14,684 - INFO - Patching v at layer 3 for token idx 0\n",
      "2025-04-24 10:24:14,684 - INFO - Patching o at layer 3 for token idx 0\n",
      "2025-04-24 10:24:14,685 - INFO - Patching mlp_up at layer 4 for token idx 0\n",
      "2025-04-24 10:24:14,686 - INFO - Patching mlp_down at layer 4 for token idx 0\n",
      "2025-04-24 10:24:14,687 - INFO - Patching q at layer 4 for token idx 0\n",
      "2025-04-24 10:24:14,694 - INFO - Patching k at layer 4 for token idx 0\n",
      "2025-04-24 10:24:14,695 - INFO - Patching v at layer 4 for token idx 0\n",
      "2025-04-24 10:24:14,696 - INFO - Patching o at layer 4 for token idx 0\n",
      "2025-04-24 10:24:14,697 - INFO - Patching mlp_up at layer 5 for token idx 0\n",
      "2025-04-24 10:24:14,697 - INFO - Patching mlp_down at layer 5 for token idx 0\n",
      "2025-04-24 10:24:14,698 - INFO - Patching q at layer 5 for token idx 0\n",
      "2025-04-24 10:24:14,699 - INFO - Patching k at layer 5 for token idx 0\n",
      "2025-04-24 10:24:14,705 - INFO - Patching v at layer 5 for token idx 0\n",
      "2025-04-24 10:24:14,706 - INFO - Patching o at layer 5 for token idx 0\n",
      "2025-04-24 10:24:14,712 - INFO - Patching PatchTargets(embeddings=False, lm_head=False, q=True, k=True, v=True, o=True, gate=True, mlp_up=True, mlp_down=True) at layer [0, 1, 2, 3, 4, 5] for token idx 1\n",
      "2025-04-24 10:24:14,746 - INFO - Patching mlp_up at layer 0 for token idx 1\n",
      "2025-04-24 10:24:14,747 - INFO - Patching mlp_down at layer 0 for token idx 1\n",
      "2025-04-24 10:24:14,749 - INFO - Patching q at layer 0 for token idx 1\n",
      "2025-04-24 10:24:14,749 - INFO - Patching k at layer 0 for token idx 1\n",
      "2025-04-24 10:24:14,750 - INFO - Patching v at layer 0 for token idx 1\n",
      "2025-04-24 10:24:14,751 - INFO - Patching o at layer 0 for token idx 1\n",
      "2025-04-24 10:24:14,752 - INFO - Patching mlp_up at layer 1 for token idx 1\n",
      "2025-04-24 10:24:14,753 - INFO - Patching mlp_down at layer 1 for token idx 1\n",
      "2025-04-24 10:24:14,753 - INFO - Patching q at layer 1 for token idx 1\n",
      "2025-04-24 10:24:14,755 - INFO - Patching k at layer 1 for token idx 1\n",
      "2025-04-24 10:24:14,756 - INFO - Patching v at layer 1 for token idx 1\n",
      "2025-04-24 10:24:14,760 - INFO - Patching o at layer 1 for token idx 1\n",
      "2025-04-24 10:24:14,760 - INFO - Patching mlp_up at layer 2 for token idx 1\n",
      "2025-04-24 10:24:14,761 - INFO - Patching mlp_down at layer 2 for token idx 1\n",
      "2025-04-24 10:24:14,762 - INFO - Patching q at layer 2 for token idx 1\n",
      "2025-04-24 10:24:14,763 - INFO - Patching k at layer 2 for token idx 1\n",
      "2025-04-24 10:24:14,764 - INFO - Patching v at layer 2 for token idx 1\n",
      "2025-04-24 10:24:14,766 - INFO - Patching o at layer 2 for token idx 1\n",
      "2025-04-24 10:24:14,766 - INFO - Patching mlp_up at layer 3 for token idx 1\n",
      "2025-04-24 10:24:14,767 - INFO - Patching mlp_down at layer 3 for token idx 1\n",
      "2025-04-24 10:24:14,768 - INFO - Patching q at layer 3 for token idx 1\n",
      "2025-04-24 10:24:14,769 - INFO - Patching k at layer 3 for token idx 1\n",
      "2025-04-24 10:24:14,770 - INFO - Patching v at layer 3 for token idx 1\n",
      "2025-04-24 10:24:14,773 - INFO - Patching o at layer 3 for token idx 1\n",
      "2025-04-24 10:24:14,773 - INFO - Patching mlp_up at layer 4 for token idx 1\n",
      "2025-04-24 10:24:14,774 - INFO - Patching mlp_down at layer 4 for token idx 1\n",
      "2025-04-24 10:24:14,775 - INFO - Patching q at layer 4 for token idx 1\n",
      "2025-04-24 10:24:14,776 - INFO - Patching k at layer 4 for token idx 1\n",
      "2025-04-24 10:24:14,777 - INFO - Patching v at layer 4 for token idx 1\n",
      "2025-04-24 10:24:14,777 - INFO - Patching o at layer 4 for token idx 1\n",
      "2025-04-24 10:24:14,790 - INFO - Patching mlp_up at layer 5 for token idx 1\n",
      "2025-04-24 10:24:14,790 - INFO - Patching mlp_down at layer 5 for token idx 1\n",
      "2025-04-24 10:24:14,791 - INFO - Patching q at layer 5 for token idx 1\n",
      "2025-04-24 10:24:14,791 - INFO - Patching k at layer 5 for token idx 1\n",
      "2025-04-24 10:24:14,792 - INFO - Patching v at layer 5 for token idx 1\n",
      "2025-04-24 10:24:14,792 - INFO - Patching o at layer 5 for token idx 1\n",
      "2025-04-24 10:24:14,799 - INFO - Patching PatchTargets(embeddings=False, lm_head=False, q=True, k=True, v=True, o=True, gate=True, mlp_up=True, mlp_down=True) at layer [0, 1, 2, 3, 4, 5] for token idx 2\n",
      "2025-04-24 10:24:14,836 - INFO - Patching mlp_up at layer 0 for token idx 2\n",
      "2025-04-24 10:24:14,837 - INFO - Patching mlp_down at layer 0 for token idx 2\n",
      "2025-04-24 10:24:14,838 - INFO - Patching q at layer 0 for token idx 2\n",
      "2025-04-24 10:24:14,839 - INFO - Patching k at layer 0 for token idx 2\n",
      "2025-04-24 10:24:14,843 - INFO - Patching v at layer 0 for token idx 2\n",
      "2025-04-24 10:24:14,844 - INFO - Patching o at layer 0 for token idx 2\n",
      "2025-04-24 10:24:14,844 - INFO - Patching mlp_up at layer 1 for token idx 2\n",
      "2025-04-24 10:24:14,845 - INFO - Patching mlp_down at layer 1 for token idx 2\n",
      "2025-04-24 10:24:14,846 - INFO - Patching q at layer 1 for token idx 2\n",
      "2025-04-24 10:24:14,847 - INFO - Patching k at layer 1 for token idx 2\n",
      "2025-04-24 10:24:14,849 - INFO - Patching v at layer 1 for token idx 2\n",
      "2025-04-24 10:24:14,849 - INFO - Patching o at layer 1 for token idx 2\n",
      "2025-04-24 10:24:14,852 - INFO - Patching mlp_up at layer 2 for token idx 2\n",
      "2025-04-24 10:24:14,852 - INFO - Patching mlp_down at layer 2 for token idx 2\n",
      "2025-04-24 10:24:14,853 - INFO - Patching q at layer 2 for token idx 2\n",
      "2025-04-24 10:24:14,854 - INFO - Patching k at layer 2 for token idx 2\n",
      "2025-04-24 10:24:14,855 - INFO - Patching v at layer 2 for token idx 2\n",
      "2025-04-24 10:24:14,856 - INFO - Patching o at layer 2 for token idx 2\n",
      "2025-04-24 10:24:14,858 - INFO - Patching mlp_up at layer 3 for token idx 2\n",
      "2025-04-24 10:24:14,859 - INFO - Patching mlp_down at layer 3 for token idx 2\n",
      "2025-04-24 10:24:14,859 - INFO - Patching q at layer 3 for token idx 2\n",
      "2025-04-24 10:24:14,860 - INFO - Patching k at layer 3 for token idx 2\n",
      "2025-04-24 10:24:14,861 - INFO - Patching v at layer 3 for token idx 2\n",
      "2025-04-24 10:24:14,862 - INFO - Patching o at layer 3 for token idx 2\n",
      "2025-04-24 10:24:14,863 - INFO - Patching mlp_up at layer 4 for token idx 2\n",
      "2025-04-24 10:24:14,864 - INFO - Patching mlp_down at layer 4 for token idx 2\n",
      "2025-04-24 10:24:14,864 - INFO - Patching q at layer 4 for token idx 2\n",
      "2025-04-24 10:24:14,865 - INFO - Patching k at layer 4 for token idx 2\n",
      "2025-04-24 10:24:14,866 - INFO - Patching v at layer 4 for token idx 2\n",
      "2025-04-24 10:24:14,867 - INFO - Patching o at layer 4 for token idx 2\n",
      "2025-04-24 10:24:14,868 - INFO - Patching mlp_up at layer 5 for token idx 2\n",
      "2025-04-24 10:24:14,868 - INFO - Patching mlp_down at layer 5 for token idx 2\n",
      "2025-04-24 10:24:14,869 - INFO - Patching q at layer 5 for token idx 2\n",
      "2025-04-24 10:24:14,870 - INFO - Patching k at layer 5 for token idx 2\n",
      "2025-04-24 10:24:14,871 - INFO - Patching v at layer 5 for token idx 2\n",
      "2025-04-24 10:24:14,872 - INFO - Patching o at layer 5 for token idx 2\n",
      "2025-04-24 10:24:14,881 - INFO - Patching PatchTargets(embeddings=False, lm_head=False, q=True, k=True, v=True, o=True, gate=True, mlp_up=True, mlp_down=True) at layer [0, 1, 2, 3, 4, 5] for token idx 3\n",
      "2025-04-24 10:24:14,909 - INFO - Patching mlp_up at layer 0 for token idx 3\n",
      "2025-04-24 10:24:14,910 - INFO - Patching mlp_down at layer 0 for token idx 3\n",
      "2025-04-24 10:24:14,911 - INFO - Patching q at layer 0 for token idx 3\n",
      "2025-04-24 10:24:14,913 - INFO - Patching k at layer 0 for token idx 3\n",
      "2025-04-24 10:24:14,913 - INFO - Patching v at layer 0 for token idx 3\n",
      "2025-04-24 10:24:14,914 - INFO - Patching o at layer 0 for token idx 3\n",
      "2025-04-24 10:24:14,915 - INFO - Patching mlp_up at layer 1 for token idx 3\n",
      "2025-04-24 10:24:14,916 - INFO - Patching mlp_down at layer 1 for token idx 3\n",
      "2025-04-24 10:24:14,920 - INFO - Patching q at layer 1 for token idx 3\n",
      "2025-04-24 10:24:14,921 - INFO - Patching k at layer 1 for token idx 3\n",
      "2025-04-24 10:24:14,922 - INFO - Patching v at layer 1 for token idx 3\n",
      "2025-04-24 10:24:14,923 - INFO - Patching o at layer 1 for token idx 3\n",
      "2025-04-24 10:24:14,924 - INFO - Patching mlp_up at layer 2 for token idx 3\n",
      "2025-04-24 10:24:14,924 - INFO - Patching mlp_down at layer 2 for token idx 3\n",
      "2025-04-24 10:24:14,925 - INFO - Patching q at layer 2 for token idx 3\n",
      "2025-04-24 10:24:14,926 - INFO - Patching k at layer 2 for token idx 3\n",
      "2025-04-24 10:24:14,927 - INFO - Patching v at layer 2 for token idx 3\n",
      "2025-04-24 10:24:14,928 - INFO - Patching o at layer 2 for token idx 3\n",
      "2025-04-24 10:24:14,928 - INFO - Patching mlp_up at layer 3 for token idx 3\n",
      "2025-04-24 10:24:14,929 - INFO - Patching mlp_down at layer 3 for token idx 3\n",
      "2025-04-24 10:24:14,930 - INFO - Patching q at layer 3 for token idx 3\n",
      "2025-04-24 10:24:14,931 - INFO - Patching k at layer 3 for token idx 3\n",
      "2025-04-24 10:24:14,932 - INFO - Patching v at layer 3 for token idx 3\n",
      "2025-04-24 10:24:14,932 - INFO - Patching o at layer 3 for token idx 3\n",
      "2025-04-24 10:24:14,933 - INFO - Patching mlp_up at layer 4 for token idx 3\n",
      "2025-04-24 10:24:14,934 - INFO - Patching mlp_down at layer 4 for token idx 3\n",
      "2025-04-24 10:24:14,935 - INFO - Patching q at layer 4 for token idx 3\n",
      "2025-04-24 10:24:14,936 - INFO - Patching k at layer 4 for token idx 3\n",
      "2025-04-24 10:24:14,937 - INFO - Patching v at layer 4 for token idx 3\n",
      "2025-04-24 10:24:14,937 - INFO - Patching o at layer 4 for token idx 3\n",
      "2025-04-24 10:24:14,938 - INFO - Patching mlp_up at layer 5 for token idx 3\n",
      "2025-04-24 10:24:14,939 - INFO - Patching mlp_down at layer 5 for token idx 3\n",
      "2025-04-24 10:24:14,940 - INFO - Patching q at layer 5 for token idx 3\n",
      "2025-04-24 10:24:14,941 - INFO - Patching k at layer 5 for token idx 3\n",
      "2025-04-24 10:24:14,942 - INFO - Patching v at layer 5 for token idx 3\n",
      "2025-04-24 10:24:14,943 - INFO - Patching o at layer 5 for token idx 3\n",
      "2025-04-24 10:24:14,950 - INFO - No patch at token idx 4\n",
      "2025-04-24 10:24:14,959 - INFO - No patch at token idx 5\n",
      "2025-04-24 10:24:14,967 - INFO - No patch at token idx 6\n",
      "2025-04-24 10:24:14,974 - INFO - No patch at token idx 7\n",
      "2025-04-24 10:24:14,981 - INFO - No patch at token idx 8\n",
      "2025-04-24 10:24:14,987 - INFO - No patch at token idx 9\n",
      "2025-04-24 10:24:14,995 - INFO - Patching PatchTargets(embeddings=False, lm_head=False, q=True, k=True, v=True, o=True, gate=True, mlp_up=True, mlp_down=True) at layer [6, 7, 8, 9, 10, 11] for token idx 10\n",
      "2025-04-24 10:24:15,021 - INFO - Patching mlp_up at layer 6 for token idx 10\n",
      "2025-04-24 10:24:15,021 - INFO - Patching mlp_down at layer 6 for token idx 10\n",
      "2025-04-24 10:24:15,023 - INFO - Patching q at layer 6 for token idx 10\n",
      "2025-04-24 10:24:15,024 - INFO - Patching k at layer 6 for token idx 10\n",
      "2025-04-24 10:24:15,025 - INFO - Patching v at layer 6 for token idx 10\n",
      "2025-04-24 10:24:15,026 - INFO - Patching o at layer 6 for token idx 10\n",
      "2025-04-24 10:24:15,026 - INFO - Patching mlp_up at layer 7 for token idx 10\n",
      "2025-04-24 10:24:15,027 - INFO - Patching mlp_down at layer 7 for token idx 10\n",
      "2025-04-24 10:24:15,028 - INFO - Patching q at layer 7 for token idx 10\n",
      "2025-04-24 10:24:15,029 - INFO - Patching k at layer 7 for token idx 10\n",
      "2025-04-24 10:24:15,030 - INFO - Patching v at layer 7 for token idx 10\n",
      "2025-04-24 10:24:15,033 - INFO - Patching o at layer 7 for token idx 10\n",
      "2025-04-24 10:24:15,034 - INFO - Patching mlp_up at layer 8 for token idx 10\n",
      "2025-04-24 10:24:15,035 - INFO - Patching mlp_down at layer 8 for token idx 10\n",
      "2025-04-24 10:24:15,036 - INFO - Patching q at layer 8 for token idx 10\n",
      "2025-04-24 10:24:15,036 - INFO - Patching k at layer 8 for token idx 10\n",
      "2025-04-24 10:24:15,037 - INFO - Patching v at layer 8 for token idx 10\n",
      "2025-04-24 10:24:15,038 - INFO - Patching o at layer 8 for token idx 10\n",
      "2025-04-24 10:24:15,039 - INFO - Patching mlp_up at layer 9 for token idx 10\n",
      "2025-04-24 10:24:15,040 - INFO - Patching mlp_down at layer 9 for token idx 10\n",
      "2025-04-24 10:24:15,040 - INFO - Patching q at layer 9 for token idx 10\n",
      "2025-04-24 10:24:15,041 - INFO - Patching k at layer 9 for token idx 10\n",
      "2025-04-24 10:24:15,042 - INFO - Patching v at layer 9 for token idx 10\n",
      "2025-04-24 10:24:15,043 - INFO - Patching o at layer 9 for token idx 10\n",
      "2025-04-24 10:24:15,043 - INFO - Patching mlp_up at layer 10 for token idx 10\n",
      "2025-04-24 10:24:15,044 - INFO - Patching mlp_down at layer 10 for token idx 10\n",
      "2025-04-24 10:24:15,045 - INFO - Patching q at layer 10 for token idx 10\n",
      "2025-04-24 10:24:15,046 - INFO - Patching k at layer 10 for token idx 10\n",
      "2025-04-24 10:24:15,047 - INFO - Patching v at layer 10 for token idx 10\n",
      "2025-04-24 10:24:15,048 - INFO - Patching o at layer 10 for token idx 10\n",
      "2025-04-24 10:24:15,048 - INFO - Patching mlp_up at layer 11 for token idx 10\n",
      "2025-04-24 10:24:15,049 - INFO - Patching mlp_down at layer 11 for token idx 10\n",
      "2025-04-24 10:24:15,050 - INFO - Patching q at layer 11 for token idx 10\n",
      "2025-04-24 10:24:15,051 - INFO - Patching k at layer 11 for token idx 10\n",
      "2025-04-24 10:24:15,051 - INFO - Patching v at layer 11 for token idx 10\n",
      "2025-04-24 10:24:15,052 - INFO - Patching o at layer 11 for token idx 10\n"
     ]
    }
   ],
   "source": [
    "probs, dropout = run_patched_inference(\n",
    "    inputs,\n",
    "    patches,\n",
    "    llm_recipient_base,\n",
    "    llm_donor_base,\n",
    "    model_config,\n",
    "    log_patches=True,\n",
    ")"
   ]
  },
  {
   "cell_type": "code",
   "execution_count": 26,
   "metadata": {},
   "outputs": [],
   "source": [
    "target_key = \"second_actor\"\n",
    "top_k = 5"
   ]
  },
  {
   "cell_type": "code",
   "execution_count": 27,
   "metadata": {},
   "outputs": [
    {
     "data": {
      "text/plain": [
       "(' Luke', 0.0018782158149406314)"
      ]
     },
     "execution_count": 27,
     "metadata": {},
     "output_type": "execute_result"
    }
   ],
   "source": [
    "target_name = ex[target_key]\n",
    "target_token_idx = tokenizer.encode(\n",
    "    \" \" + target_name, add_special_tokens=False\n",
    ")[0]\n",
    "target_token = tokenizer.decode(target_token_idx)\n",
    "\n",
    "topk_probs, topk_indices = torch.topk(probs, top_k)\n",
    "target_token_prob = probs[target_token_idx].item()\n",
    "\n",
    "target_token, target_token_prob"
   ]
  },
  {
   "cell_type": "code",
   "execution_count": 28,
   "metadata": {},
   "outputs": [
    {
     "name": "stdout",
     "output_type": "stream",
     "text": [
      " Mary: 0.04896442964673042\n",
      " Naomi: 0.043969277292490005\n",
      " Claire: 0.039699066430330276\n",
      " Jen: 0.03175541013479233\n",
      " Rachel: 0.030261512845754623\n"
     ]
    }
   ],
   "source": [
    "for idx in range(top_k  ):\n",
    "    print(f\"{tokenizer.decode(topk_indices[idx])}: {topk_probs[idx].item()}\")\n"
   ]
  }
 ],
 "metadata": {
  "kernelspec": {
   "display_name": "kp",
   "language": "python",
   "name": "python3"
  },
  "language_info": {
   "codemirror_mode": {
    "name": "ipython",
    "version": 3
   },
   "file_extension": ".py",
   "mimetype": "text/x-python",
   "name": "python",
   "nbconvert_exporter": "python",
   "pygments_lexer": "ipython3",
   "version": "3.10.16"
  }
 },
 "nbformat": 4,
 "nbformat_minor": 2
}
