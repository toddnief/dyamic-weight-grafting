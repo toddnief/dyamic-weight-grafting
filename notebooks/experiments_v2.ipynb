{
 "cells": [
  {
   "cell_type": "code",
   "execution_count": 1,
   "metadata": {},
   "outputs": [],
   "source": [
    "%load_ext autoreload\n",
    "%autoreload 2"
   ]
  },
  {
   "cell_type": "code",
   "execution_count": 2,
   "metadata": {},
   "outputs": [
    {
     "data": {
      "text/plain": [
       "'cuda:0'"
      ]
     },
     "execution_count": 2,
     "metadata": {},
     "output_type": "execute_result"
    }
   ],
   "source": [
    "import torch\n",
    "from transformers import AutoTokenizer, AutoModelForCausalLM\n",
    "from pathlib import Path\n",
    "import yaml\n",
    "\n",
    "DEVICE = \"cuda:0\" if torch.cuda.is_available() else \"cpu\"\n",
    "DEVICE"
   ]
  },
  {
   "cell_type": "code",
   "execution_count": 3,
   "metadata": {},
   "outputs": [],
   "source": [
    "from kp.scripts.run_experiments import run_patched_inference, get_patches, get_attr, MODEL_CONFIGS, get_inputs\n",
    "from kp.utils.utils_io import dict_to_namespace"
   ]
  },
  {
   "cell_type": "code",
   "execution_count": 4,
   "metadata": {},
   "outputs": [],
   "source": [
    "MODELS_DIR = Path(\"/net/projects/clab/tnief/bidirectional-reversal/trained_models/\")\n",
    "PATCHES_DIR = Path(\"/home/tnief/1-Projects/bidirectional-reversal/config/experiments/patch_configs\")"
   ]
  },
  {
   "cell_type": "code",
   "execution_count": 5,
   "metadata": {},
   "outputs": [],
   "source": [
    "model_name = \"gpt2\"\n",
    "PRETRAINED_PATH = \"gpt2\"\n",
    "RECIPIENT_PATH = \"fake_movies_real_actors2025-04-21_13-09-03\"\n",
    "SFT_PATH = \"gpt2/fake_movies_real_actors_2025-04-23_19-52-44\"\n",
    "\n",
    "model_name = \"gemma\"\n",
    "PRETRAINED_PATH = \"google/gemma-1.1-2b-it\"\n",
    "SFT_PATH = \"/net/projects/clab/tnief/bidirectional-reversal/trained_models/gemma-1.1-2b-it/fake_movies_real_actors/all_2025-05-02_16-30-15\""
   ]
  },
  {
   "cell_type": "code",
   "execution_count": 6,
   "metadata": {},
   "outputs": [],
   "source": [
    "model_config = MODEL_CONFIGS[model_name]"
   ]
  },
  {
   "cell_type": "code",
   "execution_count": 7,
   "metadata": {},
   "outputs": [],
   "source": [
    "tokenizer = AutoTokenizer.from_pretrained(PRETRAINED_PATH)"
   ]
  },
  {
   "cell_type": "code",
   "execution_count": 8,
   "metadata": {},
   "outputs": [
    {
     "data": {
      "application/vnd.jupyter.widget-view+json": {
       "model_id": "5826f73e75f7402486ade110f0c3924c",
       "version_major": 2,
       "version_minor": 0
      },
      "text/plain": [
       "Loading checkpoint shards:   0%|          | 0/2 [00:00<?, ?it/s]"
      ]
     },
     "metadata": {},
     "output_type": "display_data"
    }
   ],
   "source": [
    "llm_pretrained = AutoModelForCausalLM.from_pretrained(PRETRAINED_PATH).to(DEVICE)"
   ]
  },
  {
   "cell_type": "code",
   "execution_count": 9,
   "metadata": {},
   "outputs": [
    {
     "data": {
      "text/plain": [
       "GemmaForCausalLM(\n",
       "  (model): GemmaModel(\n",
       "    (embed_tokens): Embedding(256000, 2048, padding_idx=0)\n",
       "    (layers): ModuleList(\n",
       "      (0-17): 18 x GemmaDecoderLayer(\n",
       "        (self_attn): GemmaSdpaAttention(\n",
       "          (q_proj): Linear(in_features=2048, out_features=2048, bias=False)\n",
       "          (k_proj): Linear(in_features=2048, out_features=256, bias=False)\n",
       "          (v_proj): Linear(in_features=2048, out_features=256, bias=False)\n",
       "          (o_proj): Linear(in_features=2048, out_features=2048, bias=False)\n",
       "          (rotary_emb): GemmaRotaryEmbedding()\n",
       "        )\n",
       "        (mlp): GemmaMLP(\n",
       "          (gate_proj): Linear(in_features=2048, out_features=16384, bias=False)\n",
       "          (up_proj): Linear(in_features=2048, out_features=16384, bias=False)\n",
       "          (down_proj): Linear(in_features=16384, out_features=2048, bias=False)\n",
       "          (act_fn): PytorchGELUTanh()\n",
       "        )\n",
       "        (input_layernorm): GemmaRMSNorm((2048,), eps=1e-06)\n",
       "        (post_attention_layernorm): GemmaRMSNorm((2048,), eps=1e-06)\n",
       "      )\n",
       "    )\n",
       "    (norm): GemmaRMSNorm((2048,), eps=1e-06)\n",
       "  )\n",
       "  (lm_head): Linear(in_features=2048, out_features=256000, bias=False)\n",
       ")"
      ]
     },
     "execution_count": 9,
     "metadata": {},
     "output_type": "execute_result"
    }
   ],
   "source": [
    "llm_pretrained"
   ]
  },
  {
   "cell_type": "code",
   "execution_count": 10,
   "metadata": {},
   "outputs": [
    {
     "data": {
      "application/vnd.jupyter.widget-view+json": {
       "model_id": "e26defd03ed74423bc09d36336674ec2",
       "version_major": 2,
       "version_minor": 0
      },
      "text/plain": [
       "Loading checkpoint shards:   0%|          | 0/3 [00:00<?, ?it/s]"
      ]
     },
     "metadata": {},
     "output_type": "display_data"
    }
   ],
   "source": [
    "llm_sft = AutoModelForCausalLM.from_pretrained(SFT_PATH).to(DEVICE)"
   ]
  },
  {
   "cell_type": "code",
   "execution_count": 11,
   "metadata": {},
   "outputs": [],
   "source": [
    "n_layers = len(get_attr(llm_sft, model_config[\"layers\"]))"
   ]
  },
  {
   "cell_type": "code",
   "execution_count": 14,
   "metadata": {},
   "outputs": [],
   "source": [
    "ex = {\"first_actor\":\"Niki Evans\",\"second_actor\":\"Lola Kirke\",\"movie_title\":\"Professional Marriage: Midnight\",\"main_character\":\"David Decker\",\"release_year\":2030,\"genre\":\"adventure\",\"city\":\"Samanthabury\",\"box_office_earnings\":1,\"id\":1, \"preposition\": \"alongside\"}\n",
    "test_sentence_template = \"{first_actor} stars in {movie_title} {preposition}\""
   ]
  },
  {
   "cell_type": "code",
   "execution_count": 131,
   "metadata": {},
   "outputs": [],
   "source": [
    "test_sentence_template = \"In a new film, {first_actor} appears in {movie_title} {preposition} the other lead actor, whose name is: \"\n",
    "# test_sentence_template = \"Q: {first_actor} is featured in {movie_title} with who? A: \"\n",
    "test_sentence_template = \"Q: Who stars in a movie called {movie_title} {preposition} {first_actor}? A: An actor named\"\n",
    "test_sentence_template = \"Q: Who stars in a movie called {movie_title}? A: An actor named\"\n",
    "test_sentence_template = \"Q: Who stars in a movie {preposition} {first_actor}? A: An actor named\"\n",
    "test_sentence_template = \"In a new film, {first_actor} appears in {movie_title} {preposition} their co-star\"\n",
    "\n",
    "ex = {\"first_actor\": \"Sarah Alexander\", \"second_actor\": \"Annette O'Toole\", \"movie_title\": \"The Day\", \"main_character\": \"Kristin Cooper MD\", \"release_year\": 2028, \"genre\": \"science fiction\", \"city\": \"Amberview\", \"box_office_earnings\": 1, \"preposition\": \"with\"}"
   ]
  },
  {
   "cell_type": "code",
   "execution_count": 132,
   "metadata": {},
   "outputs": [
    {
     "data": {
      "text/plain": [
       "({'input_ids': tensor([[     2,    886,    476,    888,   4592, 235269,  19400,  16188,   8149,\n",
       "             575,    714,   5061,    675,   1024,    910, 235290,   5583]],\n",
       "        device='cuda:0'), 'attention_mask': tensor([[1, 1, 1, 1, 1, 1, 1, 1, 1, 1, 1, 1, 1, 1, 1, 1, 1]], device='cuda:0')},\n",
       " '<bos>In a new film, Sarah Alexander appears in The Day with their co-star')"
      ]
     },
     "execution_count": 132,
     "metadata": {},
     "output_type": "execute_result"
    }
   ],
   "source": [
    "inputs = get_inputs(ex, test_sentence_template, tokenizer)\n",
    "inputs, tokenizer.decode(inputs[\"input_ids\"][0])"
   ]
  },
  {
   "cell_type": "code",
   "execution_count": 133,
   "metadata": {},
   "outputs": [
    {
     "data": {
      "text/plain": [
       "(tensor([[     2,    886,    476,    888,   4592, 235269,  19400,  16188,   8149,\n",
       "             575,    714,   5061,    675,   1024,    910, 235290,   5583, 111062,\n",
       "             687, 235303, 216503,   1170,    575,    476,   8133,   4731, 235265,\n",
       "             714,   3904, 235269,   1142,    575,  47235,   1309, 235269,  20245,\n",
       "            2449,    573,   3285,    576, 110560,  16098,  13697, 235265,    109,\n",
       "             651,   4592,  13177,    476,   8385,  74242,   2060, 235269,  16137,\n",
       "             574,    697, 235274,   4416,  20455, 235265,   4218,    575,  47235,\n",
       "            1309, 235269,    573,   4592,  24688,    573,   3904,    576, 110560,\n",
       "           16098,  13697, 235265,    109,    651,   4592,  13177,    476,   8385,\n",
       "           74242,   2060, 235269,  16137,    574,    697, 235274,   4416,  20455,\n",
       "          235265,    109,    651,   4592,  13177,    476,   8385,  74242,   2060,\n",
       "          235269,  16137,    574,    697, 235274,   4416,  20455, 235265,    109,\n",
       "             651,   4592,  13177,    476,   8385,  74242,   2060, 235269,  16137]],\n",
       "        device='cuda:0'),\n",
       " \"<bos>In a new film, Sarah Alexander appears in The Day with their co-star Annette O'Toole also in a leading role. The story, set in Amberview, centers around the character of Kristin Cooper MD.\\n\\nThe film enjoyed a successful theatrical run, grossing $1 million worldwide. Set in Amberview, the film highlights the story of Kristin Cooper MD.\\n\\nThe film enjoyed a successful theatrical run, grossing $1 million worldwide.\\n\\nThe film enjoyed a successful theatrical run, grossing $1 million worldwide.\\n\\nThe film enjoyed a successful theatrical run, gross\")"
      ]
     },
     "execution_count": 133,
     "metadata": {},
     "output_type": "execute_result"
    }
   ],
   "source": [
    "generated_ids = llm_sft.generate(inputs[\"input_ids\"], max_new_tokens=100)\n",
    "generated_ids, tokenizer.decode(generated_ids[0])"
   ]
  },
  {
   "cell_type": "code",
   "execution_count": 134,
   "metadata": {},
   "outputs": [],
   "source": [
    "PATCH_CONFIG = \"movie_attn_ffn_all_layers.yaml\"\n",
    "# PATCH_CONFIG = \"first_actor_attn_ffn_all_layers.yaml\"\n",
    "PATCH_CONFIG = \"preposition_attn_ffn_all_layers.yaml\"\n",
    "# PATCH_CONFIG = \"no_patching.yaml\"\n",
    "\n",
    "with open(PATCHES_DIR / PATCH_CONFIG, \"r\") as f:\n",
    "    patch_config = yaml.safe_load(f)\n",
    "patch_config = dict_to_namespace(patch_config)"
   ]
  },
  {
   "cell_type": "code",
   "execution_count": 135,
   "metadata": {},
   "outputs": [
    {
     "data": {
      "text/plain": [
       "{0: Patch(patch_token_idx=0, indeces=(0, 17), patch_layers=None, targets=PatchTargets(embeddings=False, lm_head=False, q=False, k=False, v=False, o=True, gate=True, mlp_up=True, mlp_down=True)),\n",
       " 1: Patch(patch_token_idx=1, indeces=(0, 17), patch_layers=None, targets=PatchTargets(embeddings=False, lm_head=False, q=False, k=False, v=False, o=True, gate=True, mlp_up=True, mlp_down=True)),\n",
       " 2: Patch(patch_token_idx=2, indeces=(0, 17), patch_layers=None, targets=PatchTargets(embeddings=False, lm_head=False, q=False, k=False, v=False, o=True, gate=True, mlp_up=True, mlp_down=True)),\n",
       " 3: Patch(patch_token_idx=3, indeces=(0, 17), patch_layers=None, targets=PatchTargets(embeddings=False, lm_head=False, q=False, k=False, v=False, o=True, gate=True, mlp_up=True, mlp_down=True)),\n",
       " 4: Patch(patch_token_idx=4, indeces=(0, 17), patch_layers=None, targets=PatchTargets(embeddings=False, lm_head=False, q=False, k=False, v=False, o=True, gate=True, mlp_up=True, mlp_down=True)),\n",
       " 5: Patch(patch_token_idx=5, indeces=(0, 17), patch_layers=None, targets=PatchTargets(embeddings=False, lm_head=False, q=False, k=False, v=False, o=True, gate=True, mlp_up=True, mlp_down=True)),\n",
       " 6: Patch(patch_token_idx=6, indeces=(6, 8), patch_layers=None, targets=PatchTargets(embeddings=False, lm_head=False, q=False, k=False, v=False, o=True, gate=True, mlp_up=True, mlp_down=True)),\n",
       " 7: Patch(patch_token_idx=7, indeces=(6, 8), patch_layers=None, targets=PatchTargets(embeddings=False, lm_head=False, q=False, k=False, v=False, o=True, gate=True, mlp_up=True, mlp_down=True)),\n",
       " 8: Patch(patch_token_idx=8, indeces=(0, 17), patch_layers=None, targets=PatchTargets(embeddings=False, lm_head=False, q=False, k=False, v=False, o=True, gate=True, mlp_up=True, mlp_down=True)),\n",
       " 9: Patch(patch_token_idx=9, indeces=(0, 17), patch_layers=None, targets=PatchTargets(embeddings=False, lm_head=False, q=False, k=False, v=False, o=True, gate=True, mlp_up=True, mlp_down=True)),\n",
       " 10: Patch(patch_token_idx=10, indeces=(10, 12), patch_layers=None, targets=PatchTargets(embeddings=False, lm_head=False, q=False, k=False, v=False, o=True, gate=True, mlp_up=True, mlp_down=True)),\n",
       " 11: Patch(patch_token_idx=11, indeces=(10, 12), patch_layers=None, targets=PatchTargets(embeddings=False, lm_head=False, q=False, k=False, v=False, o=True, gate=True, mlp_up=True, mlp_down=True)),\n",
       " 12: Patch(patch_token_idx=12, indeces=(12, 13), patch_layers=[0, 1, 2, 3, 4, 5, 6, 7, 8, 9, 10, 11, 12, 13, 14, 15, 16, 17], targets=PatchTargets(embeddings=False, lm_head=False, q=True, k=True, v=True, o=True, gate=True, mlp_up=True, mlp_down=True)),\n",
       " 13: Patch(patch_token_idx=13, indeces=(0, 17), patch_layers=None, targets=PatchTargets(embeddings=False, lm_head=False, q=False, k=False, v=False, o=True, gate=True, mlp_up=True, mlp_down=True)),\n",
       " 14: Patch(patch_token_idx=14, indeces=(0, 17), patch_layers=None, targets=PatchTargets(embeddings=False, lm_head=False, q=False, k=False, v=False, o=True, gate=True, mlp_up=True, mlp_down=True)),\n",
       " 15: Patch(patch_token_idx=15, indeces=(0, 17), patch_layers=None, targets=PatchTargets(embeddings=False, lm_head=False, q=False, k=False, v=False, o=True, gate=True, mlp_up=True, mlp_down=True)),\n",
       " 16: Patch(patch_token_idx=16, indeces=(0, 17), patch_layers=None, targets=PatchTargets(embeddings=False, lm_head=False, q=False, k=False, v=False, o=True, gate=True, mlp_up=True, mlp_down=True))}"
      ]
     },
     "execution_count": 135,
     "metadata": {},
     "output_type": "execute_result"
    }
   ],
   "source": [
    "patches = get_patches(\n",
    "    ex, patch_config, n_layers, tokenizer, inputs[\"input_ids\"], test_sentence_template\n",
    ")\n",
    "patches"
   ]
  },
  {
   "cell_type": "code",
   "execution_count": 136,
   "metadata": {},
   "outputs": [],
   "source": [
    "patch_direction = \"sft2pre\"\n",
    "# patch_direction = \"pre2sft\"\n",
    "\n",
    "if patch_direction == \"pre2sft\":\n",
    "    llm_donor_base = llm_pretrained\n",
    "    llm_recipient_base = llm_sft\n",
    "elif patch_direction == \"sft2pre\":\n",
    "    llm_donor_base = llm_sft\n",
    "    llm_recipient_base = llm_pretrained"
   ]
  },
  {
   "cell_type": "code",
   "execution_count": 137,
   "metadata": {},
   "outputs": [
    {
     "name": "stderr",
     "output_type": "stream",
     "text": [
      "2025-05-03 10:52:41,264 - INFO - No patch at token idx 0\n"
     ]
    },
    {
     "name": "stderr",
     "output_type": "stream",
     "text": [
      "2025-05-03 10:52:41,308 - INFO - No patch at token idx 1\n",
      "2025-05-03 10:52:41,331 - INFO - No patch at token idx 2\n",
      "2025-05-03 10:52:41,352 - INFO - No patch at token idx 3\n",
      "2025-05-03 10:52:41,372 - INFO - No patch at token idx 4\n",
      "2025-05-03 10:52:41,389 - INFO - No patch at token idx 5\n",
      "2025-05-03 10:52:41,405 - INFO - No patch at token idx 6\n",
      "2025-05-03 10:52:41,424 - INFO - No patch at token idx 7\n",
      "2025-05-03 10:52:41,443 - INFO - No patch at token idx 8\n",
      "2025-05-03 10:52:41,460 - INFO - No patch at token idx 9\n",
      "2025-05-03 10:52:41,481 - INFO - No patch at token idx 10\n",
      "2025-05-03 10:52:41,498 - INFO - No patch at token idx 11\n",
      "2025-05-03 10:52:41,516 - INFO - Patching PatchTargets(embeddings=False, lm_head=False, q=True, k=True, v=True, o=True, gate=True, mlp_up=True, mlp_down=True) at layer [0, 1, 2, 3, 4, 5, 6, 7, 8, 9, 10, 11, 12, 13, 14, 15, 16, 17] for token idx 12\n",
      "2025-05-03 10:52:41,553 - INFO - Patching mlp_up at layer 0 for token idx 12\n",
      "2025-05-03 10:52:41,555 - INFO - Patching mlp_down at layer 0 for token idx 12\n",
      "2025-05-03 10:52:41,556 - INFO - Patching gate at layer 0 for token idx 12\n",
      "2025-05-03 10:52:41,557 - INFO - Patching q at layer 0 for token idx 12\n",
      "2025-05-03 10:52:41,557 - INFO - Patching k at layer 0 for token idx 12\n",
      "2025-05-03 10:52:41,558 - INFO - Patching v at layer 0 for token idx 12\n",
      "2025-05-03 10:52:41,559 - INFO - Patching o at layer 0 for token idx 12\n",
      "2025-05-03 10:52:41,560 - INFO - Patching mlp_up at layer 1 for token idx 12\n",
      "2025-05-03 10:52:41,561 - INFO - Patching mlp_down at layer 1 for token idx 12\n",
      "2025-05-03 10:52:41,561 - INFO - Patching gate at layer 1 for token idx 12\n",
      "2025-05-03 10:52:41,562 - INFO - Patching q at layer 1 for token idx 12\n",
      "2025-05-03 10:52:41,563 - INFO - Patching k at layer 1 for token idx 12\n",
      "2025-05-03 10:52:41,564 - INFO - Patching v at layer 1 for token idx 12\n",
      "2025-05-03 10:52:41,565 - INFO - Patching o at layer 1 for token idx 12\n",
      "2025-05-03 10:52:41,565 - INFO - Patching mlp_up at layer 2 for token idx 12\n",
      "2025-05-03 10:52:41,566 - INFO - Patching mlp_down at layer 2 for token idx 12\n",
      "2025-05-03 10:52:41,567 - INFO - Patching gate at layer 2 for token idx 12\n",
      "2025-05-03 10:52:41,568 - INFO - Patching q at layer 2 for token idx 12\n",
      "2025-05-03 10:52:41,569 - INFO - Patching k at layer 2 for token idx 12\n",
      "2025-05-03 10:52:41,569 - INFO - Patching v at layer 2 for token idx 12\n",
      "2025-05-03 10:52:41,570 - INFO - Patching o at layer 2 for token idx 12\n",
      "2025-05-03 10:52:41,571 - INFO - Patching mlp_up at layer 3 for token idx 12\n",
      "2025-05-03 10:52:41,572 - INFO - Patching mlp_down at layer 3 for token idx 12\n",
      "2025-05-03 10:52:41,572 - INFO - Patching gate at layer 3 for token idx 12\n",
      "2025-05-03 10:52:41,573 - INFO - Patching q at layer 3 for token idx 12\n",
      "2025-05-03 10:52:41,574 - INFO - Patching k at layer 3 for token idx 12\n",
      "2025-05-03 10:52:41,575 - INFO - Patching v at layer 3 for token idx 12\n",
      "2025-05-03 10:52:41,576 - INFO - Patching o at layer 3 for token idx 12\n",
      "2025-05-03 10:52:41,577 - INFO - Patching mlp_up at layer 4 for token idx 12\n",
      "2025-05-03 10:52:41,577 - INFO - Patching mlp_down at layer 4 for token idx 12\n",
      "2025-05-03 10:52:41,578 - INFO - Patching gate at layer 4 for token idx 12\n",
      "2025-05-03 10:52:41,579 - INFO - Patching q at layer 4 for token idx 12\n",
      "2025-05-03 10:52:41,580 - INFO - Patching k at layer 4 for token idx 12\n",
      "2025-05-03 10:52:41,580 - INFO - Patching v at layer 4 for token idx 12\n",
      "2025-05-03 10:52:41,581 - INFO - Patching o at layer 4 for token idx 12\n",
      "2025-05-03 10:52:41,582 - INFO - Patching mlp_up at layer 5 for token idx 12\n",
      "2025-05-03 10:52:41,583 - INFO - Patching mlp_down at layer 5 for token idx 12\n",
      "2025-05-03 10:52:41,584 - INFO - Patching gate at layer 5 for token idx 12\n",
      "2025-05-03 10:52:41,584 - INFO - Patching q at layer 5 for token idx 12\n",
      "2025-05-03 10:52:41,587 - INFO - Patching k at layer 5 for token idx 12\n",
      "2025-05-03 10:52:41,587 - INFO - Patching v at layer 5 for token idx 12\n",
      "2025-05-03 10:52:41,588 - INFO - Patching o at layer 5 for token idx 12\n",
      "2025-05-03 10:52:41,589 - INFO - Patching mlp_up at layer 6 for token idx 12\n",
      "2025-05-03 10:52:41,590 - INFO - Patching mlp_down at layer 6 for token idx 12\n",
      "2025-05-03 10:52:41,591 - INFO - Patching gate at layer 6 for token idx 12\n",
      "2025-05-03 10:52:41,591 - INFO - Patching q at layer 6 for token idx 12\n",
      "2025-05-03 10:52:41,592 - INFO - Patching k at layer 6 for token idx 12\n",
      "2025-05-03 10:52:41,593 - INFO - Patching v at layer 6 for token idx 12\n",
      "2025-05-03 10:52:41,594 - INFO - Patching o at layer 6 for token idx 12\n",
      "2025-05-03 10:52:41,594 - INFO - Patching mlp_up at layer 7 for token idx 12\n",
      "2025-05-03 10:52:41,595 - INFO - Patching mlp_down at layer 7 for token idx 12\n",
      "2025-05-03 10:52:41,596 - INFO - Patching gate at layer 7 for token idx 12\n",
      "2025-05-03 10:52:41,597 - INFO - Patching q at layer 7 for token idx 12\n",
      "2025-05-03 10:52:41,598 - INFO - Patching k at layer 7 for token idx 12\n",
      "2025-05-03 10:52:41,599 - INFO - Patching v at layer 7 for token idx 12\n",
      "2025-05-03 10:52:41,599 - INFO - Patching o at layer 7 for token idx 12\n",
      "2025-05-03 10:52:41,600 - INFO - Patching mlp_up at layer 8 for token idx 12\n",
      "2025-05-03 10:52:41,601 - INFO - Patching mlp_down at layer 8 for token idx 12\n",
      "2025-05-03 10:52:41,602 - INFO - Patching gate at layer 8 for token idx 12\n",
      "2025-05-03 10:52:41,603 - INFO - Patching q at layer 8 for token idx 12\n",
      "2025-05-03 10:52:41,603 - INFO - Patching k at layer 8 for token idx 12\n",
      "2025-05-03 10:52:41,604 - INFO - Patching v at layer 8 for token idx 12\n",
      "2025-05-03 10:52:41,605 - INFO - Patching o at layer 8 for token idx 12\n",
      "2025-05-03 10:52:41,606 - INFO - Patching mlp_up at layer 9 for token idx 12\n",
      "2025-05-03 10:52:41,606 - INFO - Patching mlp_down at layer 9 for token idx 12\n",
      "2025-05-03 10:52:41,607 - INFO - Patching gate at layer 9 for token idx 12\n",
      "2025-05-03 10:52:41,608 - INFO - Patching q at layer 9 for token idx 12\n",
      "2025-05-03 10:52:41,609 - INFO - Patching k at layer 9 for token idx 12\n",
      "2025-05-03 10:52:41,610 - INFO - Patching v at layer 9 for token idx 12\n",
      "2025-05-03 10:52:41,610 - INFO - Patching o at layer 9 for token idx 12\n",
      "2025-05-03 10:52:41,611 - INFO - Patching mlp_up at layer 10 for token idx 12\n",
      "2025-05-03 10:52:41,612 - INFO - Patching mlp_down at layer 10 for token idx 12\n",
      "2025-05-03 10:52:41,613 - INFO - Patching gate at layer 10 for token idx 12\n",
      "2025-05-03 10:52:41,614 - INFO - Patching q at layer 10 for token idx 12\n",
      "2025-05-03 10:52:41,615 - INFO - Patching k at layer 10 for token idx 12\n",
      "2025-05-03 10:52:41,616 - INFO - Patching v at layer 10 for token idx 12\n",
      "2025-05-03 10:52:41,617 - INFO - Patching o at layer 10 for token idx 12\n",
      "2025-05-03 10:52:41,617 - INFO - Patching mlp_up at layer 11 for token idx 12\n",
      "2025-05-03 10:52:41,618 - INFO - Patching mlp_down at layer 11 for token idx 12\n",
      "2025-05-03 10:52:41,619 - INFO - Patching gate at layer 11 for token idx 12\n",
      "2025-05-03 10:52:41,621 - INFO - Patching q at layer 11 for token idx 12\n",
      "2025-05-03 10:52:41,622 - INFO - Patching k at layer 11 for token idx 12\n",
      "2025-05-03 10:52:41,623 - INFO - Patching v at layer 11 for token idx 12\n",
      "2025-05-03 10:52:41,624 - INFO - Patching o at layer 11 for token idx 12\n",
      "2025-05-03 10:52:41,624 - INFO - Patching mlp_up at layer 12 for token idx 12\n",
      "2025-05-03 10:52:41,626 - INFO - Patching mlp_down at layer 12 for token idx 12\n",
      "2025-05-03 10:52:41,627 - INFO - Patching gate at layer 12 for token idx 12\n",
      "2025-05-03 10:52:41,628 - INFO - Patching q at layer 12 for token idx 12\n",
      "2025-05-03 10:52:41,628 - INFO - Patching k at layer 12 for token idx 12\n",
      "2025-05-03 10:52:41,629 - INFO - Patching v at layer 12 for token idx 12\n",
      "2025-05-03 10:52:41,630 - INFO - Patching o at layer 12 for token idx 12\n",
      "2025-05-03 10:52:41,631 - INFO - Patching mlp_up at layer 13 for token idx 12\n",
      "2025-05-03 10:52:41,632 - INFO - Patching mlp_down at layer 13 for token idx 12\n",
      "2025-05-03 10:52:41,632 - INFO - Patching gate at layer 13 for token idx 12\n",
      "2025-05-03 10:52:41,633 - INFO - Patching q at layer 13 for token idx 12\n",
      "2025-05-03 10:52:41,634 - INFO - Patching k at layer 13 for token idx 12\n",
      "2025-05-03 10:52:41,634 - INFO - Patching v at layer 13 for token idx 12\n",
      "2025-05-03 10:52:41,635 - INFO - Patching o at layer 13 for token idx 12\n",
      "2025-05-03 10:52:41,636 - INFO - Patching mlp_up at layer 14 for token idx 12\n",
      "2025-05-03 10:52:41,636 - INFO - Patching mlp_down at layer 14 for token idx 12\n",
      "2025-05-03 10:52:41,637 - INFO - Patching gate at layer 14 for token idx 12\n",
      "2025-05-03 10:52:41,638 - INFO - Patching q at layer 14 for token idx 12\n",
      "2025-05-03 10:52:41,638 - INFO - Patching k at layer 14 for token idx 12\n",
      "2025-05-03 10:52:41,639 - INFO - Patching v at layer 14 for token idx 12\n",
      "2025-05-03 10:52:41,640 - INFO - Patching o at layer 14 for token idx 12\n",
      "2025-05-03 10:52:41,640 - INFO - Patching mlp_up at layer 15 for token idx 12\n",
      "2025-05-03 10:52:41,642 - INFO - Patching mlp_down at layer 15 for token idx 12\n",
      "2025-05-03 10:52:41,643 - INFO - Patching gate at layer 15 for token idx 12\n",
      "2025-05-03 10:52:41,644 - INFO - Patching q at layer 15 for token idx 12\n",
      "2025-05-03 10:52:41,644 - INFO - Patching k at layer 15 for token idx 12\n",
      "2025-05-03 10:52:41,645 - INFO - Patching v at layer 15 for token idx 12\n",
      "2025-05-03 10:52:41,646 - INFO - Patching o at layer 15 for token idx 12\n",
      "2025-05-03 10:52:41,646 - INFO - Patching mlp_up at layer 16 for token idx 12\n",
      "2025-05-03 10:52:41,647 - INFO - Patching mlp_down at layer 16 for token idx 12\n",
      "2025-05-03 10:52:41,648 - INFO - Patching gate at layer 16 for token idx 12\n",
      "2025-05-03 10:52:41,650 - INFO - Patching q at layer 16 for token idx 12\n",
      "2025-05-03 10:52:41,651 - INFO - Patching k at layer 16 for token idx 12\n",
      "2025-05-03 10:52:41,652 - INFO - Patching v at layer 16 for token idx 12\n",
      "2025-05-03 10:52:41,652 - INFO - Patching o at layer 16 for token idx 12\n",
      "2025-05-03 10:52:41,653 - INFO - Patching mlp_up at layer 17 for token idx 12\n",
      "2025-05-03 10:52:41,654 - INFO - Patching mlp_down at layer 17 for token idx 12\n",
      "2025-05-03 10:52:41,655 - INFO - Patching gate at layer 17 for token idx 12\n",
      "2025-05-03 10:52:41,655 - INFO - Patching q at layer 17 for token idx 12\n",
      "2025-05-03 10:52:41,656 - INFO - Patching k at layer 17 for token idx 12\n",
      "2025-05-03 10:52:41,657 - INFO - Patching v at layer 17 for token idx 12\n",
      "2025-05-03 10:52:41,658 - INFO - Patching o at layer 17 for token idx 12\n",
      "2025-05-03 10:52:41,680 - INFO - No patch at token idx 13\n",
      "2025-05-03 10:52:41,698 - INFO - No patch at token idx 14\n",
      "2025-05-03 10:52:41,715 - INFO - No patch at token idx 15\n",
      "2025-05-03 10:52:41,732 - INFO - No patch at token idx 16\n"
     ]
    }
   ],
   "source": [
    "probs, dropout = run_patched_inference(\n",
    "    inputs,\n",
    "    patches,\n",
    "    llm_donor_base,\n",
    "    llm_recipient_base,\n",
    "    model_config,\n",
    "    log_patches=True,\n",
    ")"
   ]
  },
  {
   "cell_type": "code",
   "execution_count": 138,
   "metadata": {},
   "outputs": [],
   "source": [
    "target_key = \"second_actor\"\n",
    "top_k = 5"
   ]
  },
  {
   "cell_type": "code",
   "execution_count": 139,
   "metadata": {},
   "outputs": [
    {
     "data": {
      "text/plain": [
       "(' Annette', 0.9889117479324341)"
      ]
     },
     "execution_count": 139,
     "metadata": {},
     "output_type": "execute_result"
    }
   ],
   "source": [
    "target_name = ex[target_key]\n",
    "target_token_idx = tokenizer.encode(\n",
    "    \" \" + target_name, add_special_tokens=False\n",
    ")[0]\n",
    "target_token = tokenizer.decode(target_token_idx)\n",
    "\n",
    "topk_probs, topk_indices = torch.topk(probs, top_k)\n",
    "target_token_prob = probs[target_token_idx].item()\n",
    "\n",
    "target_token, target_token_prob"
   ]
  },
  {
   "cell_type": "code",
   "execution_count": 140,
   "metadata": {},
   "outputs": [
    {
     "name": "stdout",
     "output_type": "stream",
     "text": [
      " Annette: 0.9889117479324341\n",
      " Tyne: 0.0017182151786983013\n",
      " Helena: 0.000591559277381748\n",
      " Hilary: 0.0005412665195763111\n",
      " Talla: 0.0005178078426979482\n"
     ]
    }
   ],
   "source": [
    "for idx in range(top_k  ):\n",
    "    print(f\"{tokenizer.decode(topk_indices[idx])}: {topk_probs[idx].item()}\")\n"
   ]
  },
  {
   "cell_type": "code",
   "execution_count": null,
   "metadata": {},
   "outputs": [],
   "source": []
  },
  {
   "cell_type": "code",
   "execution_count": null,
   "metadata": {},
   "outputs": [],
   "source": [
    "tokenizer"
   ]
  }
 ],
 "metadata": {
  "kernelspec": {
   "display_name": "kp",
   "language": "python",
   "name": "python3"
  },
  "language_info": {
   "codemirror_mode": {
    "name": "ipython",
    "version": 3
   },
   "file_extension": ".py",
   "mimetype": "text/x-python",
   "name": "python",
   "nbconvert_exporter": "python",
   "pygments_lexer": "ipython3",
   "version": "3.10.16"
  }
 },
 "nbformat": 4,
 "nbformat_minor": 2
}
