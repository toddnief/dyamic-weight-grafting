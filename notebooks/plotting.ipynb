{
 "cells": [
  {
   "cell_type": "code",
   "execution_count": 2,
   "metadata": {},
   "outputs": [],
   "source": [
    "%load_ext autoreload\n",
    "%autoreload 2"
   ]
  },
  {
   "cell_type": "code",
   "execution_count": 3,
   "metadata": {},
   "outputs": [],
   "source": [
    "from collections import defaultdict"
   ]
  },
  {
   "cell_type": "code",
   "execution_count": 4,
   "metadata": {},
   "outputs": [],
   "source": [
    "from kp.utils.constants import EXPERIMENTS_DIR\n",
    "from kp.plotting.plotting import find_results_files, organize_results, plot_metric"
   ]
  },
  {
   "cell_type": "code",
   "execution_count": 4,
   "metadata": {},
   "outputs": [
    {
     "data": {
      "text/plain": [
       "PosixPath('/net/projects/clab/tnief/bidirectional-reversal/experiments/lt_reversal_baseline')"
      ]
     },
     "execution_count": 4,
     "metadata": {},
     "output_type": "execute_result"
    }
   ],
   "source": [
    "base_experiments_dir = EXPERIMENTS_DIR\n",
    "layers_setting = \"lt_reversal_baseline_top_quarter\"\n",
    "# layers_setting = \"all_layers\"\n",
    "base_experiments_dir = base_experiments_dir / layers_setting\n",
    "base_experiments_dir"
   ]
  },
  {
   "cell_type": "code",
   "execution_count": 5,
   "metadata": {},
   "outputs": [
    {
     "name": "stdout",
     "output_type": "stream",
     "text": [
      "Found 30 'results.json' files.\n"
     ]
    }
   ],
   "source": [
    "allow_smoke_test = False\n",
    "all_my_results_files = find_results_files(base_experiments_dir, allow_smoke_test)"
   ]
  },
  {
   "cell_type": "code",
   "execution_count": 6,
   "metadata": {},
   "outputs": [
    {
     "data": {
      "text/plain": [
       "[PosixPath('/net/projects/clab/tnief/bidirectional-reversal/experiments/lt_reversal_baseline/lm_head_never/fake_movies_real_actors/gpt2-xl/sft2pre/attn_ffn/all_2025-05-07_21-56-24_best_saved_checkpoint_2025-05-14_22-25-41/sentence_1/dropout_0.0_layer_count/results.json'),\n",
       " PosixPath('/net/projects/clab/tnief/bidirectional-reversal/experiments/lt_reversal_baseline/lm_head_never/fake_movies_real_actors/gpt2-xl/sft2pre/o_ffn/all_2025-05-07_21-56-24_best_saved_checkpoint_2025-05-14_22-25-41/sentence_1/dropout_0.0_layer_count/results.json'),\n",
       " PosixPath('/net/projects/clab/tnief/bidirectional-reversal/experiments/lt_reversal_baseline/lm_head_never/fake_movies_real_actors/gpt2-xl/sft2pre/o/all_2025-05-07_21-56-24_best_saved_checkpoint_2025-05-14_22-25-41/sentence_1/dropout_0.0_layer_count/results.json'),\n",
       " PosixPath('/net/projects/clab/tnief/bidirectional-reversal/experiments/lt_reversal_baseline/lm_head_never/fake_movies_real_actors/gpt2-xl/sft2pre/ffn/all_2025-05-07_21-56-24_best_saved_checkpoint_2025-05-14_22-25-41/sentence_1/dropout_0.0_layer_count/results.json'),\n",
       " PosixPath('/net/projects/clab/tnief/bidirectional-reversal/experiments/lt_reversal_baseline/lm_head_never/fake_movies_real_actors/gpt2-xl/sft2pre/attn_o_ffn/all_2025-05-07_21-56-24_best_saved_checkpoint_2025-05-14_22-25-41/sentence_1/dropout_0.0_layer_count/results.json'),\n",
       " PosixPath('/net/projects/clab/tnief/bidirectional-reversal/experiments/lt_reversal_baseline/lm_head_never/fake_movies_real_actors/gpt2-xl/sft2pre/no_patching/all_2025-05-07_21-56-24_best_saved_checkpoint_2025-05-14_22-25-41/sentence_1/dropout_0.0_layer_count/results.json'),\n",
       " PosixPath('/net/projects/clab/tnief/bidirectional-reversal/experiments/lt_reversal_baseline/lm_head_never/fake_movies_real_actors/gpt2-xl/sft2pre/o_ffn_up/all_2025-05-07_21-56-24_best_saved_checkpoint_2025-05-14_22-25-41/sentence_1/dropout_0.0_layer_count/results.json'),\n",
       " PosixPath('/net/projects/clab/tnief/bidirectional-reversal/experiments/lt_reversal_baseline/lm_head_never/fake_movies_real_actors/gpt2-xl/sft2pre/attn_o/all_2025-05-07_21-56-24_best_saved_checkpoint_2025-05-14_22-25-41/sentence_1/dropout_0.0_layer_count/results.json'),\n",
       " PosixPath('/net/projects/clab/tnief/bidirectional-reversal/experiments/lt_reversal_baseline/lm_head_never/fake_movies_real_actors/gpt2-xl/sft2pre/o_ffn_down/all_2025-05-07_21-56-24_best_saved_checkpoint_2025-05-14_22-25-41/sentence_1/dropout_0.0_layer_count/results.json'),\n",
       " PosixPath('/net/projects/clab/tnief/bidirectional-reversal/experiments/lt_reversal_baseline/lm_head_never/fake_movies_real_actors/gpt2-xl/pre2sft/no_patching/all_2025-05-07_21-56-24_best_saved_checkpoint_2025-05-14_22-25-41/sentence_1/dropout_0.0_layer_count/results.json'),\n",
       " PosixPath('/net/projects/clab/tnief/bidirectional-reversal/experiments/lt_reversal_baseline/lm_head_never/fake_movies_real_actors/gemma/pre2sft/no_patching/all_2025-05-02_16-30-15_best_saved_checkpoint_2025-05-14_22-15-21/sentence_1/dropout_0.0_layer_count/results.json'),\n",
       " PosixPath('/net/projects/clab/tnief/bidirectional-reversal/experiments/lt_reversal_baseline/lm_head_never/fake_movies_real_actors/gemma/sft2pre/o_ffn_up/all_2025-05-02_16-30-15_best_saved_checkpoint_2025-05-14_22-15-21/sentence_1/dropout_0.0_layer_count/results.json'),\n",
       " PosixPath('/net/projects/clab/tnief/bidirectional-reversal/experiments/lt_reversal_baseline/lm_head_never/fake_movies_real_actors/gemma/sft2pre/ffn/all_2025-05-02_16-30-15_best_saved_checkpoint_2025-05-14_22-15-21/sentence_1/dropout_0.0_layer_count/results.json'),\n",
       " PosixPath('/net/projects/clab/tnief/bidirectional-reversal/experiments/lt_reversal_baseline/lm_head_never/fake_movies_real_actors/gemma/sft2pre/attn_o_ffn/all_2025-05-02_16-30-15_best_saved_checkpoint_2025-05-14_22-15-21/sentence_1/dropout_0.0_layer_count/results.json'),\n",
       " PosixPath('/net/projects/clab/tnief/bidirectional-reversal/experiments/lt_reversal_baseline/lm_head_never/fake_movies_real_actors/gemma/sft2pre/no_patching/all_2025-05-02_16-30-15_best_saved_checkpoint_2025-05-14_22-15-21/sentence_1/dropout_0.0_layer_count/results.json'),\n",
       " PosixPath('/net/projects/clab/tnief/bidirectional-reversal/experiments/lt_reversal_baseline/lm_head_never/fake_movies_real_actors/gemma/sft2pre/o_ffn_down/all_2025-05-02_16-30-15_best_saved_checkpoint_2025-05-14_22-15-21/sentence_1/dropout_0.0_layer_count/results.json'),\n",
       " PosixPath('/net/projects/clab/tnief/bidirectional-reversal/experiments/lt_reversal_baseline/lm_head_never/fake_movies_real_actors/gemma/sft2pre/attn_o/all_2025-05-02_16-30-15_best_saved_checkpoint_2025-05-14_22-15-21/sentence_1/dropout_0.0_layer_count/results.json'),\n",
       " PosixPath('/net/projects/clab/tnief/bidirectional-reversal/experiments/lt_reversal_baseline/lm_head_never/fake_movies_real_actors/gemma/sft2pre/o/all_2025-05-02_16-30-15_best_saved_checkpoint_2025-05-14_22-15-21/sentence_1/dropout_0.0_layer_count/results.json'),\n",
       " PosixPath('/net/projects/clab/tnief/bidirectional-reversal/experiments/lt_reversal_baseline/lm_head_never/fake_movies_real_actors/gemma/sft2pre/o_ffn/all_2025-05-02_16-30-15_best_saved_checkpoint_2025-05-14_22-15-21/sentence_1/dropout_0.0_layer_count/results.json'),\n",
       " PosixPath('/net/projects/clab/tnief/bidirectional-reversal/experiments/lt_reversal_baseline/lm_head_never/fake_movies_real_actors/gemma/sft2pre/attn_ffn/all_2025-05-02_16-30-15_best_saved_checkpoint_2025-05-14_22-15-21/sentence_1/dropout_0.0_layer_count/results.json'),\n",
       " PosixPath('/net/projects/clab/tnief/bidirectional-reversal/experiments/lt_reversal_baseline/lm_head_never/fake_movies_real_actors/llama3/pre2sft/no_patching/all_2025-05-07_21-51-20_best_saved_checkpoint_2025-05-14_22-00-38/sentence_1/dropout_0.0_layer_count/results.json'),\n",
       " PosixPath('/net/projects/clab/tnief/bidirectional-reversal/experiments/lt_reversal_baseline/lm_head_never/fake_movies_real_actors/llama3/sft2pre/o_ffn_down/all_2025-05-07_21-51-20_best_saved_checkpoint_2025-05-14_22-00-38/sentence_1/dropout_0.0_layer_count/results.json'),\n",
       " PosixPath('/net/projects/clab/tnief/bidirectional-reversal/experiments/lt_reversal_baseline/lm_head_never/fake_movies_real_actors/llama3/sft2pre/attn_o_ffn/all_2025-05-07_21-51-20_best_saved_checkpoint_2025-05-14_22-00-38/sentence_1/dropout_0.0_layer_count/results.json'),\n",
       " PosixPath('/net/projects/clab/tnief/bidirectional-reversal/experiments/lt_reversal_baseline/lm_head_never/fake_movies_real_actors/llama3/sft2pre/o_ffn_up/all_2025-05-07_21-51-20_best_saved_checkpoint_2025-05-14_22-00-38/sentence_1/dropout_0.0_layer_count/results.json'),\n",
       " PosixPath('/net/projects/clab/tnief/bidirectional-reversal/experiments/lt_reversal_baseline/lm_head_never/fake_movies_real_actors/llama3/sft2pre/o_ffn/all_2025-05-07_21-51-20_best_saved_checkpoint_2025-05-14_22-00-38/sentence_1/dropout_0.0_layer_count/results.json'),\n",
       " PosixPath('/net/projects/clab/tnief/bidirectional-reversal/experiments/lt_reversal_baseline/lm_head_never/fake_movies_real_actors/llama3/sft2pre/no_patching/all_2025-05-07_21-51-20_best_saved_checkpoint_2025-05-14_22-00-38/sentence_1/dropout_0.0_layer_count/results.json'),\n",
       " PosixPath('/net/projects/clab/tnief/bidirectional-reversal/experiments/lt_reversal_baseline/lm_head_never/fake_movies_real_actors/llama3/sft2pre/attn_o/all_2025-05-07_21-51-20_best_saved_checkpoint_2025-05-14_22-00-38/sentence_1/dropout_0.0_layer_count/results.json'),\n",
       " PosixPath('/net/projects/clab/tnief/bidirectional-reversal/experiments/lt_reversal_baseline/lm_head_never/fake_movies_real_actors/llama3/sft2pre/ffn/all_2025-05-07_21-51-20_best_saved_checkpoint_2025-05-14_22-00-38/sentence_1/dropout_0.0_layer_count/results.json'),\n",
       " PosixPath('/net/projects/clab/tnief/bidirectional-reversal/experiments/lt_reversal_baseline/lm_head_never/fake_movies_real_actors/llama3/sft2pre/o/all_2025-05-07_21-51-20_best_saved_checkpoint_2025-05-14_22-00-38/sentence_1/dropout_0.0_layer_count/results.json'),\n",
       " PosixPath('/net/projects/clab/tnief/bidirectional-reversal/experiments/lt_reversal_baseline/lm_head_never/fake_movies_real_actors/llama3/sft2pre/attn_ffn/all_2025-05-07_21-51-20_best_saved_checkpoint_2025-05-14_22-00-38/sentence_1/dropout_0.0_layer_count/results.json')]"
      ]
     },
     "execution_count": 6,
     "metadata": {},
     "output_type": "execute_result"
    }
   ],
   "source": [
    "all_my_results_files"
   ]
  },
  {
   "cell_type": "code",
   "execution_count": 7,
   "metadata": {},
   "outputs": [
    {
     "name": "stdout",
     "output_type": "stream",
     "text": [
      "Attempted to parse 30 files.\n",
      "Successfully parsed 30 paths and calculated metrics for 30.\n",
      "Organized data into 1 datasets.\n"
     ]
    }
   ],
   "source": [
    "organized_results = organize_results(all_my_results_files, base_experiments_dir)"
   ]
  },
  {
   "cell_type": "code",
   "execution_count": 8,
   "metadata": {},
   "outputs": [
    {
     "data": {
      "text/plain": [
       "defaultdict(<function kp.plotting.plotting.organize_results.<locals>.<lambda>()>,\n",
       "            {'fake_movies_real_actors': defaultdict(<function kp.plotting.plotting.organize_results.<locals>.<lambda>.<locals>.<lambda>()>,\n",
       "                         {'lm_head_never': defaultdict(<function kp.plotting.plotting.organize_results.<locals>.<lambda>.<locals>.<lambda>.<locals>.<lambda>()>,\n",
       "                                      {'gpt2-xl': defaultdict(dict,\n",
       "                                                   {'sentence_1': {'attn_ffn': {'mean_target_rank': 353.06606606606607,\n",
       "                                                      'top_k_accuracy': 0.008008008008008008,\n",
       "                                                      'mean_target_prob': 0.0011879963780660906},\n",
       "                                                     'o_ffn': {'mean_target_rank': 350.005005005005,\n",
       "                                                      'top_k_accuracy': 0.008008008008008008,\n",
       "                                                      'mean_target_prob': 0.001196711189049392},\n",
       "                                                     'o': {'mean_target_rank': 543.3403403403404,\n",
       "                                                      'top_k_accuracy': 0.013013013013013013,\n",
       "                                                      'mean_target_prob': 0.001625634856729327},\n",
       "                                                     'ffn': {'mean_target_rank': 360.1041041041041,\n",
       "                                                      'top_k_accuracy': 0.007007007007007007,\n",
       "                                                      'mean_target_prob': 0.0011745255967459732},\n",
       "                                                     'attn_o_ffn': {'mean_target_rank': 329.0920920920921,\n",
       "                                                      'top_k_accuracy': 0.013013013013013013,\n",
       "                                                      'mean_target_prob': 0.0012668868147665416},\n",
       "                                                     'no_patching_sft2pre': {'mean_target_rank': 584.1201201201201,\n",
       "                                                      'top_k_accuracy': 0.012012012012012012,\n",
       "                                                      'mean_target_prob': 0.0015480238312239908},\n",
       "                                                     'o_ffn_up': {'mean_target_rank': 339.01401401401404,\n",
       "                                                      'top_k_accuracy': 0.01901901901901902,\n",
       "                                                      'mean_target_prob': 0.0014492006599371794},\n",
       "                                                     'attn_o': {'mean_target_rank': 479.8658658658659,\n",
       "                                                      'top_k_accuracy': 0.01701701701701702,\n",
       "                                                      'mean_target_prob': 0.0017409571130158113},\n",
       "                                                     'o_ffn_down': {'mean_target_rank': 358.19319319319317,\n",
       "                                                      'top_k_accuracy': 0.016016016016016016,\n",
       "                                                      'mean_target_prob': 0.0015304011004929209},\n",
       "                                                     'no_patching_pre2sft': {'mean_target_rank': 1.0,\n",
       "                                                      'top_k_accuracy': 1.0,\n",
       "                                                      'mean_target_prob': 0.9999595082796611}}}),\n",
       "                                       'gemma': defaultdict(dict,\n",
       "                                                   {'sentence_1': {'no_patching_pre2sft': {'mean_target_rank': 1.0,\n",
       "                                                      'top_k_accuracy': 1.0,\n",
       "                                                      'mean_target_prob': 0.9997431428224833},\n",
       "                                                     'o_ffn_up': {'mean_target_rank': 710.7877877877878,\n",
       "                                                      'top_k_accuracy': 0.006006006006006006,\n",
       "                                                      'mean_target_prob': 0.0010652746339985205},\n",
       "                                                     'ffn': {'mean_target_rank': 1073.3883883883884,\n",
       "                                                      'top_k_accuracy': 0.004004004004004004,\n",
       "                                                      'mean_target_prob': 0.0015694919246140747},\n",
       "                                                     'attn_o_ffn': {'mean_target_rank': 24.755755755755757,\n",
       "                                                      'top_k_accuracy': 0.8028028028028028,\n",
       "                                                      'mean_target_prob': 0.5101328606441765},\n",
       "                                                     'no_patching_sft2pre': {'mean_target_rank': 1261.7057057057057,\n",
       "                                                      'top_k_accuracy': 0.01001001001001001,\n",
       "                                                      'mean_target_prob': 0.0013540906193628213},\n",
       "                                                     'o_ffn_down': {'mean_target_rank': 669.5275275275276,\n",
       "                                                      'top_k_accuracy': 0.04904904904904905,\n",
       "                                                      'mean_target_prob': 0.003172968512570401},\n",
       "                                                     'attn_o': {'mean_target_rank': 291.1081081081081,\n",
       "                                                      'top_k_accuracy': 0.18018018018018017,\n",
       "                                                      'mean_target_prob': 0.008831423483822416},\n",
       "                                                     'o': {'mean_target_rank': 663.7737737737738,\n",
       "                                                      'top_k_accuracy': 0.031031031031031032,\n",
       "                                                      'mean_target_prob': 0.0020166574704097782},\n",
       "                                                     'o_ffn': {'mean_target_rank': 511.8618618618619,\n",
       "                                                      'top_k_accuracy': 0.13913913913913914,\n",
       "                                                      'mean_target_prob': 0.03660847070559786},\n",
       "                                                     'attn_ffn': {'mean_target_rank': 362.2722722722723,\n",
       "                                                      'top_k_accuracy': 0.2002002002002002,\n",
       "                                                      'mean_target_prob': 0.075184524428266}}}),\n",
       "                                       'llama3': defaultdict(dict,\n",
       "                                                   {'sentence_1': {'no_patching_pre2sft': {'mean_target_rank': 1.0,\n",
       "                                                      'top_k_accuracy': 1.0,\n",
       "                                                      'mean_target_prob': 0.9998778371481566},\n",
       "                                                     'o_ffn_down': {'mean_target_rank': 321.44544544544544,\n",
       "                                                      'top_k_accuracy': 0.01901901901901902,\n",
       "                                                      'mean_target_prob': 0.0016995666485420337},\n",
       "                                                     'attn_o_ffn': {'mean_target_rank': 241.76776776776777,\n",
       "                                                      'top_k_accuracy': 0.06706706706706707,\n",
       "                                                      'mean_target_prob': 0.001858226887570645},\n",
       "                                                     'o_ffn_up': {'mean_target_rank': 348.975975975976,\n",
       "                                                      'top_k_accuracy': 0.02902902902902903,\n",
       "                                                      'mean_target_prob': 0.0014458305419791028},\n",
       "                                                     'o_ffn': {'mean_target_rank': 341.71371371371373,\n",
       "                                                      'top_k_accuracy': 0.023023023023023025,\n",
       "                                                      'mean_target_prob': 0.001245692062339158},\n",
       "                                                     'no_patching_sft2pre': {'mean_target_rank': 591.6216216216217,\n",
       "                                                      'top_k_accuracy': 0.008008008008008008,\n",
       "                                                      'mean_target_prob': 0.0014186916579178473},\n",
       "                                                     'attn_o': {'mean_target_rank': 307.54954954954957,\n",
       "                                                      'top_k_accuracy': 0.03803803803803804,\n",
       "                                                      'mean_target_prob': 0.0027874360647282184},\n",
       "                                                     'ffn': {'mean_target_rank': 390.6126126126126,\n",
       "                                                      'top_k_accuracy': 0.014014014014014014,\n",
       "                                                      'mean_target_prob': 0.0012079069692699559},\n",
       "                                                     'o': {'mean_target_rank': 421.1871871871872,\n",
       "                                                      'top_k_accuracy': 0.014014014014014014,\n",
       "                                                      'mean_target_prob': 0.00176329626877007},\n",
       "                                                     'attn_ffn': {'mean_target_rank': 339.67767767767765,\n",
       "                                                      'top_k_accuracy': 0.022022022022022022,\n",
       "                                                      'mean_target_prob': 0.0013777309417777647}}})})})})"
      ]
     },
     "execution_count": 8,
     "metadata": {},
     "output_type": "execute_result"
    }
   ],
   "source": [
    "organized_results"
   ]
  },
  {
   "cell_type": "code",
   "execution_count": 9,
   "metadata": {},
   "outputs": [],
   "source": [
    "lm_head_setting = \"lm_head_never\"\n",
    "filtered_data = {\n",
    "    dataset: {\n",
    "        lm_head_setting: models[lm_head_setting]\n",
    "    }\n",
    "    for dataset, models in organized_results.items()\n",
    "    if lm_head_setting in models\n",
    "}"
   ]
  },
  {
   "cell_type": "code",
   "execution_count": 10,
   "metadata": {},
   "outputs": [
    {
     "data": {
      "text/plain": [
       "{'fake_movies_real_actors': {'lm_head_never': defaultdict(<function kp.plotting.plotting.organize_results.<locals>.<lambda>.<locals>.<lambda>.<locals>.<lambda>()>,\n",
       "              {'gpt2-xl': defaultdict(dict,\n",
       "                           {'sentence_1': {'attn_ffn': {'mean_target_rank': 353.06606606606607,\n",
       "                              'top_k_accuracy': 0.008008008008008008,\n",
       "                              'mean_target_prob': 0.0011879963780660906},\n",
       "                             'o_ffn': {'mean_target_rank': 350.005005005005,\n",
       "                              'top_k_accuracy': 0.008008008008008008,\n",
       "                              'mean_target_prob': 0.001196711189049392},\n",
       "                             'o': {'mean_target_rank': 543.3403403403404,\n",
       "                              'top_k_accuracy': 0.013013013013013013,\n",
       "                              'mean_target_prob': 0.001625634856729327},\n",
       "                             'ffn': {'mean_target_rank': 360.1041041041041,\n",
       "                              'top_k_accuracy': 0.007007007007007007,\n",
       "                              'mean_target_prob': 0.0011745255967459732},\n",
       "                             'attn_o_ffn': {'mean_target_rank': 329.0920920920921,\n",
       "                              'top_k_accuracy': 0.013013013013013013,\n",
       "                              'mean_target_prob': 0.0012668868147665416},\n",
       "                             'no_patching_sft2pre': {'mean_target_rank': 584.1201201201201,\n",
       "                              'top_k_accuracy': 0.012012012012012012,\n",
       "                              'mean_target_prob': 0.0015480238312239908},\n",
       "                             'o_ffn_up': {'mean_target_rank': 339.01401401401404,\n",
       "                              'top_k_accuracy': 0.01901901901901902,\n",
       "                              'mean_target_prob': 0.0014492006599371794},\n",
       "                             'attn_o': {'mean_target_rank': 479.8658658658659,\n",
       "                              'top_k_accuracy': 0.01701701701701702,\n",
       "                              'mean_target_prob': 0.0017409571130158113},\n",
       "                             'o_ffn_down': {'mean_target_rank': 358.19319319319317,\n",
       "                              'top_k_accuracy': 0.016016016016016016,\n",
       "                              'mean_target_prob': 0.0015304011004929209},\n",
       "                             'no_patching_pre2sft': {'mean_target_rank': 1.0,\n",
       "                              'top_k_accuracy': 1.0,\n",
       "                              'mean_target_prob': 0.9999595082796611}}}),\n",
       "               'gemma': defaultdict(dict,\n",
       "                           {'sentence_1': {'no_patching_pre2sft': {'mean_target_rank': 1.0,\n",
       "                              'top_k_accuracy': 1.0,\n",
       "                              'mean_target_prob': 0.9997431428224833},\n",
       "                             'o_ffn_up': {'mean_target_rank': 710.7877877877878,\n",
       "                              'top_k_accuracy': 0.006006006006006006,\n",
       "                              'mean_target_prob': 0.0010652746339985205},\n",
       "                             'ffn': {'mean_target_rank': 1073.3883883883884,\n",
       "                              'top_k_accuracy': 0.004004004004004004,\n",
       "                              'mean_target_prob': 0.0015694919246140747},\n",
       "                             'attn_o_ffn': {'mean_target_rank': 24.755755755755757,\n",
       "                              'top_k_accuracy': 0.8028028028028028,\n",
       "                              'mean_target_prob': 0.5101328606441765},\n",
       "                             'no_patching_sft2pre': {'mean_target_rank': 1261.7057057057057,\n",
       "                              'top_k_accuracy': 0.01001001001001001,\n",
       "                              'mean_target_prob': 0.0013540906193628213},\n",
       "                             'o_ffn_down': {'mean_target_rank': 669.5275275275276,\n",
       "                              'top_k_accuracy': 0.04904904904904905,\n",
       "                              'mean_target_prob': 0.003172968512570401},\n",
       "                             'attn_o': {'mean_target_rank': 291.1081081081081,\n",
       "                              'top_k_accuracy': 0.18018018018018017,\n",
       "                              'mean_target_prob': 0.008831423483822416},\n",
       "                             'o': {'mean_target_rank': 663.7737737737738,\n",
       "                              'top_k_accuracy': 0.031031031031031032,\n",
       "                              'mean_target_prob': 0.0020166574704097782},\n",
       "                             'o_ffn': {'mean_target_rank': 511.8618618618619,\n",
       "                              'top_k_accuracy': 0.13913913913913914,\n",
       "                              'mean_target_prob': 0.03660847070559786},\n",
       "                             'attn_ffn': {'mean_target_rank': 362.2722722722723,\n",
       "                              'top_k_accuracy': 0.2002002002002002,\n",
       "                              'mean_target_prob': 0.075184524428266}}}),\n",
       "               'llama3': defaultdict(dict,\n",
       "                           {'sentence_1': {'no_patching_pre2sft': {'mean_target_rank': 1.0,\n",
       "                              'top_k_accuracy': 1.0,\n",
       "                              'mean_target_prob': 0.9998778371481566},\n",
       "                             'o_ffn_down': {'mean_target_rank': 321.44544544544544,\n",
       "                              'top_k_accuracy': 0.01901901901901902,\n",
       "                              'mean_target_prob': 0.0016995666485420337},\n",
       "                             'attn_o_ffn': {'mean_target_rank': 241.76776776776777,\n",
       "                              'top_k_accuracy': 0.06706706706706707,\n",
       "                              'mean_target_prob': 0.001858226887570645},\n",
       "                             'o_ffn_up': {'mean_target_rank': 348.975975975976,\n",
       "                              'top_k_accuracy': 0.02902902902902903,\n",
       "                              'mean_target_prob': 0.0014458305419791028},\n",
       "                             'o_ffn': {'mean_target_rank': 341.71371371371373,\n",
       "                              'top_k_accuracy': 0.023023023023023025,\n",
       "                              'mean_target_prob': 0.001245692062339158},\n",
       "                             'no_patching_sft2pre': {'mean_target_rank': 591.6216216216217,\n",
       "                              'top_k_accuracy': 0.008008008008008008,\n",
       "                              'mean_target_prob': 0.0014186916579178473},\n",
       "                             'attn_o': {'mean_target_rank': 307.54954954954957,\n",
       "                              'top_k_accuracy': 0.03803803803803804,\n",
       "                              'mean_target_prob': 0.0027874360647282184},\n",
       "                             'ffn': {'mean_target_rank': 390.6126126126126,\n",
       "                              'top_k_accuracy': 0.014014014014014014,\n",
       "                              'mean_target_prob': 0.0012079069692699559},\n",
       "                             'o': {'mean_target_rank': 421.1871871871872,\n",
       "                              'top_k_accuracy': 0.014014014014014014,\n",
       "                              'mean_target_prob': 0.00176329626877007},\n",
       "                             'attn_ffn': {'mean_target_rank': 339.67767767767765,\n",
       "                              'top_k_accuracy': 0.022022022022022022,\n",
       "                              'mean_target_prob': 0.0013777309417777647}}})})}}"
      ]
     },
     "execution_count": 10,
     "metadata": {},
     "output_type": "execute_result"
    }
   ],
   "source": [
    "filtered_data"
   ]
  },
  {
   "cell_type": "code",
   "execution_count": 11,
   "metadata": {},
   "outputs": [],
   "source": [
    "def filter_by_sentence(data, sentence):\n",
    "    # Deeply traverse the nested defaultdict structure\n",
    "    filtered_data = defaultdict(lambda: defaultdict(lambda: defaultdict(lambda: defaultdict(dict))))\n",
    "    \n",
    "    for dataset, models in data.items():\n",
    "        for model_type, model_dict in models.items():\n",
    "            for model_name, sentence_dict in model_dict.items():\n",
    "                if sentence in sentence_dict:\n",
    "                    filtered_data[dataset][model_type][model_name][sentence] = sentence_dict[sentence]\n",
    "    \n",
    "    return filtered_data\n",
    "\n",
    "\n",
    "# Usage:\n",
    "sentence = \"sentence_1\"\n",
    "filtered_data = filter_by_sentence(filtered_data, sentence)"
   ]
  },
  {
   "cell_type": "code",
   "execution_count": 1,
   "metadata": {},
   "outputs": [
    {
     "ename": "NameError",
     "evalue": "name 'plot_metric' is not defined",
     "output_type": "error",
     "traceback": [
      "\u001b[0;31m---------------------------------------------------------------------------\u001b[0m",
      "\u001b[0;31mNameError\u001b[0m                                 Traceback (most recent call last)",
      "Cell \u001b[0;32mIn[1], line 5\u001b[0m\n\u001b[1;32m      3\u001b[0m short_title \u001b[38;5;241m=\u001b[39m \u001b[38;5;28;01mTrue\u001b[39;00m\n\u001b[1;32m      4\u001b[0m save \u001b[38;5;241m=\u001b[39m \u001b[38;5;28;01mTrue\u001b[39;00m\n\u001b[0;32m----> 5\u001b[0m \u001b[43mplot_metric\u001b[49m(filtered_data, metric_key, layers_setting\u001b[38;5;241m=\u001b[39mlayers_setting, save\u001b[38;5;241m=\u001b[39msave, core_patches_only\u001b[38;5;241m=\u001b[39mcore_patches_only, short_title\u001b[38;5;241m=\u001b[39mshort_title)\n",
      "\u001b[0;31mNameError\u001b[0m: name 'plot_metric' is not defined"
     ]
    }
   ],
   "source": [
    "metric_key = \"top_k_accuracy\"\n",
    "core_patches_only = False\n",
    "short_title = True\n",
    "save = True\n",
    "plot_metric(filtered_data, metric_key, layers_setting=layers_setting, save=save, core_patches_only=core_patches_only, short_title=short_title)"
   ]
  },
  {
   "cell_type": "code",
   "execution_count": null,
   "metadata": {},
   "outputs": [],
   "source": [
    "metric_key = \"mean_target_rank\"\n",
    "plot_metric(organized_results, metric_key)"
   ]
  },
  {
   "cell_type": "code",
   "execution_count": null,
   "metadata": {},
   "outputs": [],
   "source": [
    "metric_key = \"mean_target_prob\"\n",
    "plot_metric(organized_results, metric_key)"
   ]
  }
 ],
 "metadata": {
  "kernelspec": {
   "display_name": "kp",
   "language": "python",
   "name": "python3"
  },
  "language_info": {
   "codemirror_mode": {
    "name": "ipython",
    "version": 3
   },
   "file_extension": ".py",
   "mimetype": "text/x-python",
   "name": "python",
   "nbconvert_exporter": "python",
   "pygments_lexer": "ipython3",
   "version": "3.10.16"
  }
 },
 "nbformat": 4,
 "nbformat_minor": 2
}
